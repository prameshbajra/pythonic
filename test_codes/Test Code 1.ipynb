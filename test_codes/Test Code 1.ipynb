{
 "cells": [
  {
   "cell_type": "markdown",
   "metadata": {},
   "source": [
    "# Testing out unsupervised learning in fonts dataset.\n"
   ]
  },
  {
   "cell_type": "code",
   "execution_count": 24,
   "metadata": {},
   "outputs": [],
   "source": [
    "import pandas as pd\n",
    "import matplotlib.pyplot as plt\n",
    "from sklearn.preprocessing import LabelEncoder"
   ]
  },
  {
   "cell_type": "code",
   "execution_count": 27,
   "metadata": {},
   "outputs": [
    {
     "data": {
      "image/png": "[encoded data removed]",
      "text/plain": [
       "<Figure size 432x288 with 1 Axes>"
      ]
     },
     "metadata": {
      "needs_background": "light"
     },
     "output_type": "display_data"
    }
   ],
   "source": [
    "fonts_df = pd.read_csv(\"../input_data/fonts.csv\")\n",
    "encoder = LabelEncoder()\n",
    "fonts_df[\"font_weight_encoded\"] = encoder.fit_transform(fonts_df[\"font_weight\"])\n",
    "fonts_df = fonts_df.drop(columns = [\"font_family\", \"font_weight\"])\n",
    "for row in fonts_df.itertuples():\n",
    "    plt.plot(row.font_weight_encoded, row.font_size, \"r.\")\n",
    "plt.xlabel(\"Font Weight Encoded\")\n",
    "plt.ylabel(\"Font Size\")\n",
    "plt.show()"
   ]
  },
  {
   "cell_type": "code",
   "execution_count": null,
   "metadata": {},
   "outputs": [],
   "source": []
  },
  {
   "cell_type": "markdown",
   "metadata": {},
   "source": [
    "# UUID Python\n"
   ]
  },
  {
   "cell_type": "code",
   "execution_count": 28,
   "metadata": {},
   "outputs": [],
   "source": [
    "import uuid"
   ]
  },
  {
   "cell_type": "code",
   "execution_count": 1,
   "metadata": {
    "ExecuteTime": {
     "end_time": "2019-02-25T10:54:05.251731Z",
     "start_time": "2019-02-25T10:54:05.024861Z"
    }
   },
   "outputs": [
    {
     "ename": "NameError",
     "evalue": "name 'uuid' is not defined",
     "output_type": "error",
     "traceback": [
      "\u001b[0;31m---------------------------------------------------------------------------\u001b[0m",
      "\u001b[0;31mNameError\u001b[0m                                 Traceback (most recent call last)",
      "\u001b[0;32m<ipython-input-1-3a05cbf6760a>\u001b[0m in \u001b[0;36m<module>\u001b[0;34m\u001b[0m\n\u001b[0;32m----> 1\u001b[0;31m \u001b[0mstr\u001b[0m\u001b[0;34m(\u001b[0m\u001b[0muuid\u001b[0m\u001b[0;34m.\u001b[0m\u001b[0muuid1\u001b[0m\u001b[0;34m(\u001b[0m\u001b[0;34m)\u001b[0m\u001b[0;34m.\u001b[0m\u001b[0mhex\u001b[0m\u001b[0;34m)\u001b[0m\u001b[0;34m[\u001b[0m\u001b[0;34m:\u001b[0m\u001b[0;36m8\u001b[0m\u001b[0;34m]\u001b[0m\u001b[0;34m\u001b[0m\u001b[0;34m\u001b[0m\u001b[0m\n\u001b[0m",
      "\u001b[0;31mNameError\u001b[0m: name 'uuid' is not defined"
     ]
    }
   ],
   "source": [
    "str(uuid.uuid1().hex)[:8]"
   ]
  },
  {
   "cell_type": "code",
   "execution_count": 34,
   "metadata": {
    "ExecuteTime": {
     "end_time": "2019-02-25T11:05:45.869143Z",
     "start_time": "2019-02-25T11:05:45.863098Z"
    }
   },
   "outputs": [],
   "source": [
    "to_detect = list(set(\"vector, vector, equation, equation\".replace(\" \", \"\").strip(\",\").split(\",\")))"
   ]
  },
  {
   "cell_type": "code",
   "execution_count": 35,
   "metadata": {
    "ExecuteTime": {
     "end_time": "2019-02-25T11:05:46.185785Z",
     "start_time": "2019-02-25T11:05:46.182008Z"
    }
   },
   "outputs": [
    {
     "data": {
      "text/plain": [
       "['vector', 'equation']"
      ]
     },
     "execution_count": 35,
     "metadata": {},
     "output_type": "execute_result"
    }
   ],
   "source": [
    "to_detect"
   ]
  },
  {
   "cell_type": "code",
   "execution_count": 1,
   "metadata": {
    "ExecuteTime": {
     "end_time": "2019-03-14T11:29:28.572646Z",
     "start_time": "2019-03-14T11:29:28.559010Z"
    }
   },
   "outputs": [],
   "source": [
    "import os\n",
    "\n",
    "def are_files_valid():\n",
    "    try:\n",
    "        root_images = os.listdir(\"./images\")\n",
    "        train_images = [image for image in os.listdir(\"./images\") if\n",
    "                        image[-4:] in ['.jpg', '.png', 'jpeg']]\n",
    "        train_test_images = train_images\n",
    "\n",
    "        for index, image in enumerate(train_images):\n",
    "            if not os.path.exists(\"./annotations/{}.xml\".format(image.split(\".\")[0])):\n",
    "                return \"XML file for {} doesn't exist.\".format(image)\n",
    "\n",
    "        return True\n",
    "    except Exception as e:\n",
    "        return \"There is problem in {} images dataset. Please check.\".format(to_detect)"
   ]
  },
  {
   "cell_type": "code",
   "execution_count": null,
   "metadata": {},
   "outputs": [],
   "source": []
  }
 ],
 "metadata": {
  "kernelspec": {
   "display_name": "Python 3",
   "language": "python",
   "name": "python3"
  },
  "language_info": {
   "codemirror_mode": {
    "name": "ipython",
    "version": 3
   },
   "file_extension": ".py",
   "mimetype": "text/x-python",
   "name": "python",
   "nbconvert_exporter": "python",
   "pygments_lexer": "ipython3",
   "version": "3.6.8"
  }
 },
 "nbformat": 4,
 "nbformat_minor": 2
}
