{
 "cells": [
  {
   "cell_type": "code",
   "execution_count": 1,
   "metadata": {},
   "outputs": [],
   "source": [
    "from bs4 import BeautifulSoup"
   ]
  },
  {
   "cell_type": "code",
   "execution_count": 4,
   "metadata": {},
   "outputs": [],
   "source": [
    "soup = BeautifulSoup(open(\"../input_data/Pg0092_Ad_C4.tetml\"), \"xml\")\n",
    "paras = soup.find_all(\"Para\")"
   ]
  },
  {
   "cell_type": "code",
   "execution_count": 10,
   "metadata": {},
   "outputs": [],
   "source": [
    "def get_content(para):\n",
    "    intact_content = []\n",
    "    boxes = para.find_all(\"Box\")\n",
    "    for box in boxes:\n",
    "        words = box.find_all(\"Word\")\n",
    "        for word in words:\n",
    "            intact_content.append(word.Text.contents[0])\n",
    "\n",
    "    intact_content = \" \".join(content for content in intact_content)\n",
    "    return intact_content"
   ]
  },
  {
   "cell_type": "code",
   "execution_count": 11,
   "metadata": {},
   "outputs": [
    {
     "data": {
      "text/plain": [
       "'Align your investments with your values. Create a sustainable and peaceful world.'"
      ]
     },
     "execution_count": 11,
     "metadata": {},
     "output_type": "execute_result"
    }
   ],
   "source": [
    "get_content(paras[1])"
   ]
  },
  {
   "cell_type": "code",
   "execution_count": 14,
   "metadata": {},
   "outputs": [],
   "source": [
    " def get_attributes(para):\n",
    "        box = para.find_all(\"Box\")\n",
    "        co_ordinates = dict()\n",
    "        co_ordinates[\"llx\"] = box[0].get(\"llx\")\n",
    "        co_ordinates[\"lly\"] = box[0].get(\"lly\")\n",
    "        co_ordinates[\"urx\"] = box[0].get(\"urx\")\n",
    "        co_ordinates[\"ury\"] = box[0].get(\"ury\")\n",
    "        return co_ordinates"
   ]
  },
  {
   "cell_type": "code",
   "execution_count": 15,
   "metadata": {},
   "outputs": [
    {
     "data": {
      "text/plain": [
       "{'llx': '221.63', 'lly': '684.14', 'urx': '571.29', 'ury': '673.14'}"
      ]
     },
     "execution_count": 15,
     "metadata": {},
     "output_type": "execute_result"
    }
   ],
   "source": [
    "get_attributes(paras[2])"
   ]
  },
  {
   "cell_type": "code",
   "execution_count": null,
   "metadata": {},
   "outputs": [],
   "source": []
  }
 ],
 "metadata": {
  "kernelspec": {
   "display_name": "Python 3",
   "language": "python",
   "name": "python3"
  },
  "language_info": {
   "codemirror_mode": {
    "name": "ipython",
    "version": 3
   },
   "file_extension": ".py",
   "mimetype": "text/x-python",
   "name": "python",
   "nbconvert_exporter": "python",
   "pygments_lexer": "ipython3",
   "version": "3.6.8"
  }
 },
 "nbformat": 4,
 "nbformat_minor": 2
}
