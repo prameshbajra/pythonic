{
 "cells": [
  {
   "cell_type": "markdown",
   "metadata": {},
   "source": [
    "# Might Come Handy:\n",
    "<br><br>\n",
    "    https://www.analyticsvidhya.com/blog/2018/10/predicting-stock-price-machine-learningnd-deep-learning-techniques-python/#comment-156701\n",
    "<br><br>"
   ]
  },
  {
   "cell_type": "code",
   "execution_count": 242,
   "metadata": {},
   "outputs": [],
   "source": [
    "import pandas as pd\n",
    "import numpy as np\n",
    "import matplotlib.pyplot as plt\n",
    "from statsmodels.tsa.stattools import adfuller"
   ]
  },
  {
   "cell_type": "markdown",
   "metadata": {},
   "source": [
    "# Using Time Series here ...\n"
   ]
  },
  {
   "cell_type": "code",
   "execution_count": 243,
   "metadata": {},
   "outputs": [
    {
     "data": {
      "text/html": [
       "<div>\n",
       "<style scoped>\n",
       "    .dataframe tbody tr th:only-of-type {\n",
       "        vertical-align: middle;\n",
       "    }\n",
       "\n",
       "    .dataframe tbody tr th {\n",
       "        vertical-align: top;\n",
       "    }\n",
       "\n",
       "    .dataframe thead th {\n",
       "        text-align: right;\n",
       "    }\n",
       "</style>\n",
       "<table border=\"1\" class=\"dataframe\">\n",
       "  <thead>\n",
       "    <tr style=\"text-align: right;\">\n",
       "      <th></th>\n",
       "      <th>Price</th>\n",
       "      <th>Open</th>\n",
       "      <th>High</th>\n",
       "      <th>Low</th>\n",
       "      <th>Vol.</th>\n",
       "      <th>Change %</th>\n",
       "    </tr>\n",
       "    <tr>\n",
       "      <th>Date</th>\n",
       "      <th></th>\n",
       "      <th></th>\n",
       "      <th></th>\n",
       "      <th></th>\n",
       "      <th></th>\n",
       "      <th></th>\n",
       "    </tr>\n",
       "  </thead>\n",
       "  <tbody>\n",
       "    <tr>\n",
       "      <th>2019-01-18</th>\n",
       "      <td>294.95</td>\n",
       "      <td>298.75</td>\n",
       "      <td>299.85</td>\n",
       "      <td>294.25</td>\n",
       "      <td>9.08M</td>\n",
       "      <td>-0.82%</td>\n",
       "    </tr>\n",
       "    <tr>\n",
       "      <th>2019-01-17</th>\n",
       "      <td>297.40</td>\n",
       "      <td>303.90</td>\n",
       "      <td>304.35</td>\n",
       "      <td>295.60</td>\n",
       "      <td>15.97M</td>\n",
       "      <td>-1.90%</td>\n",
       "    </tr>\n",
       "    <tr>\n",
       "      <th>2019-01-16</th>\n",
       "      <td>303.15</td>\n",
       "      <td>303.00</td>\n",
       "      <td>306.65</td>\n",
       "      <td>302.10</td>\n",
       "      <td>12.11M</td>\n",
       "      <td>0.50%</td>\n",
       "    </tr>\n",
       "    <tr>\n",
       "      <th>2019-01-15</th>\n",
       "      <td>301.65</td>\n",
       "      <td>302.00</td>\n",
       "      <td>303.60</td>\n",
       "      <td>301.10</td>\n",
       "      <td>9.44M</td>\n",
       "      <td>0.42%</td>\n",
       "    </tr>\n",
       "    <tr>\n",
       "      <th>2019-01-14</th>\n",
       "      <td>300.40</td>\n",
       "      <td>301.00</td>\n",
       "      <td>303.60</td>\n",
       "      <td>299.55</td>\n",
       "      <td>10.37M</td>\n",
       "      <td>-0.78%</td>\n",
       "    </tr>\n",
       "  </tbody>\n",
       "</table>\n",
       "</div>"
      ],
      "text/plain": [
       "             Price    Open    High     Low    Vol. Change %\n",
       "Date                                                       \n",
       "2019-01-18  294.95  298.75  299.85  294.25   9.08M   -0.82%\n",
       "2019-01-17  297.40  303.90  304.35  295.60  15.97M   -1.90%\n",
       "2019-01-16  303.15  303.00  306.65  302.10  12.11M    0.50%\n",
       "2019-01-15  301.65  302.00  303.60  301.10   9.44M    0.42%\n",
       "2019-01-14  300.40  301.00  303.60  299.55  10.37M   -0.78%"
      ]
     },
     "execution_count": 243,
     "metadata": {},
     "output_type": "execute_result"
    }
   ],
   "source": [
    "stock_prices = pd.read_csv(\n",
    "    '../input_data/sbi_stock_prices.csv',\n",
    "    parse_dates=['Date'],\n",
    "    index_col=\"Date\")\n",
    "stock_prices.head()"
   ]
  },
  {
   "cell_type": "code",
   "execution_count": 244,
   "metadata": {},
   "outputs": [],
   "source": [
    "stock_prices = stock_prices.drop(columns=[\"Change %\", \"Vol.\", \"Low\", \"Open\", \"High\"])"
   ]
  },
  {
   "cell_type": "markdown",
   "metadata": {},
   "source": [
    "## Applying some time series operations:\n",
    "\n",
    "<br><br>\n",
    "\n",
    "- Accessing range of rows based on slicing type :\n"
   ]
  },
  {
   "cell_type": "code",
   "execution_count": 245,
   "metadata": {},
   "outputs": [
    {
     "name": "stdout",
     "output_type": "stream",
     "text": [
      "On date 2019-01-14 \n",
      "             Price\n",
      "Date             \n",
      "2019-01-14  300.4\n",
      "\n",
      "14Th Jan and Beyond \n",
      "              Price\n",
      "Date              \n",
      "2019-01-18  294.95\n",
      "2019-01-17  297.40\n",
      "2019-01-16  303.15\n",
      "2019-01-15  301.65\n",
      "2019-01-14  300.40\n",
      "\n",
      "From 30Th Dec 2018 to Jan 2nd 2019 \n",
      "             Price\n",
      "Date             \n",
      "2019-01-02  293.9\n",
      "2019-01-01  299.6\n",
      "2018-12-31  295.9\n",
      "\n",
      "All time contaning 2018-09 \n",
      "              Price\n",
      "Date              \n",
      "2018-09-28  265.50\n",
      "2018-09-27  265.35\n",
      "2018-09-26  263.85\n",
      "2018-09-25  270.90\n",
      "2018-09-24  264.35\n"
     ]
    }
   ],
   "source": [
    "print(\"On date 2019-01-14 \\n\", stock_prices[\"2019-01-14\"])\n",
    "print()\n",
    "print(\"14Th Jan and Beyond \\n\", stock_prices[:\"2019-01-14\"])\n",
    "print()\n",
    "print(\"From 30Th Dec 2018 to Jan 2nd 2019 \\n\",\n",
    "      stock_prices[\"2019-01-2\":\"2018-12-30\"])\n",
    "print()\n",
    "print(\"All time contaning 2018-09 \\n\", stock_prices[\"2018-09\"].head())"
   ]
  },
  {
   "cell_type": "code",
   "execution_count": 246,
   "metadata": {},
   "outputs": [
    {
     "data": {
      "image/png": "[encoded data removed]",
      "text/plain": [
       "<Figure size 432x288 with 1 Axes>"
      ]
     },
     "metadata": {
      "needs_background": "light"
     },
     "output_type": "display_data"
    }
   ],
   "source": [
    "plt.plot(stock_prices.index, stock_prices[\"Price\"].tolist())\n",
    "plt.ylabel(\"Prices\")\n",
    "plt.xlabel(\"Date\")\n",
    "plt.show()"
   ]
  },
  {
   "cell_type": "markdown",
   "metadata": {},
   "source": [
    "# Testing for Stationarity in Time Series:\n",
    "<br>\n",
    "\n",
    "- **Plotting Rolling Statistics:**\n",
    "    - Constant Mean\n",
    "    - Constant Vairance (Standard Deviation taken in this example)\n",
    "\n",
    "\n",
    "- **Dickey-Fuller Test:**\n",
    "           "
   ]
  },
  {
   "cell_type": "code",
   "execution_count": 247,
   "metadata": {},
   "outputs": [],
   "source": [
    "from statsmodels.tsa.stattools import adfuller\n",
    "\n",
    "\n",
    "def test_stationarity(timeseries):\n",
    "    #Determing rolling statistics\n",
    "    rolmean = timeseries.rolling(12).mean()\n",
    "    rolstd = timeseries.rolling(12).std()\n",
    "    #Plot rolling statistics:\n",
    "    orig = plt.plot(timeseries, color='blue', label='Original')\n",
    "    mean = plt.plot(rolmean, color='red', label='Rolling Mean')\n",
    "    std = plt.plot(rolstd, color='black', label='Rolling Std')\n",
    "    plt.legend(loc='best')\n",
    "    plt.title('Rolling Mean & Standard Deviation')\n",
    "    plt.show(block=False)\n",
    "    #Perform Dickey-Fuller test:\n",
    "    print('Results of Dickey-Fuller Test:')\n",
    "    print(timeseries.head().iloc[:, 0].values)\n",
    "    dftest = adfuller(timeseries.iloc[:, 0].values, autolag='AIC')\n",
    "    dfoutput = pd.Series(\n",
    "        dftest[0:4],\n",
    "        index=[\n",
    "            'Test Statistic', 'p-value', '#Lags Used',\n",
    "            'Number of Observations Used'\n",
    "        ])\n",
    "    for key, value in dftest[4].items():\n",
    "        dfoutput['Critical Value (%s)' % key] = value\n",
    "    print(dfoutput)"
   ]
  },
  {
   "cell_type": "code",
   "execution_count": 248,
   "metadata": {},
   "outputs": [
    {
     "data": {
      "image/png": "[encoded data removed]",
      "text/plain": [
       "<Figure size 432x288 with 1 Axes>"
      ]
     },
     "metadata": {
      "needs_background": "light"
     },
     "output_type": "display_data"
    },
    {
     "name": "stdout",
     "output_type": "stream",
     "text": [
      "Results of Dickey-Fuller Test:\n",
      "[294.95 297.4  303.15 301.65 300.4 ]\n",
      "Test Statistic                   -2.847839\n",
      "p-value                           0.051759\n",
      "#Lags Used                        1.000000\n",
      "Number of Observations Used    2003.000000\n",
      "Critical Value (1%)              -3.433619\n",
      "Critical Value (5%)              -2.862984\n",
      "Critical Value (10%)             -2.567539\n",
      "dtype: float64\n"
     ]
    }
   ],
   "source": [
    "test_stationarity(stock_prices)"
   ]
  },
  {
   "cell_type": "markdown",
   "metadata": {},
   "source": [
    "# Using ARIMA:\n"
   ]
  },
  {
   "cell_type": "code",
   "execution_count": 249,
   "metadata": {},
   "outputs": [],
   "source": [
    "from pyramid.arima import auto_arima"
   ]
  },
  {
   "cell_type": "code",
   "execution_count": 250,
   "metadata": {},
   "outputs": [
    {
     "data": {
      "text/html": [
       "<div>\n",
       "<style scoped>\n",
       "    .dataframe tbody tr th:only-of-type {\n",
       "        vertical-align: middle;\n",
       "    }\n",
       "\n",
       "    .dataframe tbody tr th {\n",
       "        vertical-align: top;\n",
       "    }\n",
       "\n",
       "    .dataframe thead th {\n",
       "        text-align: right;\n",
       "    }\n",
       "</style>\n",
       "<table border=\"1\" class=\"dataframe\">\n",
       "  <thead>\n",
       "    <tr style=\"text-align: right;\">\n",
       "      <th></th>\n",
       "      <th>Price</th>\n",
       "      <th>Open</th>\n",
       "      <th>High</th>\n",
       "      <th>Low</th>\n",
       "      <th>Vol.</th>\n",
       "      <th>Change %</th>\n",
       "    </tr>\n",
       "    <tr>\n",
       "      <th>Date</th>\n",
       "      <th></th>\n",
       "      <th></th>\n",
       "      <th></th>\n",
       "      <th></th>\n",
       "      <th></th>\n",
       "      <th></th>\n",
       "    </tr>\n",
       "  </thead>\n",
       "  <tbody>\n",
       "    <tr>\n",
       "      <th>2010-12-20</th>\n",
       "      <td>270.05</td>\n",
       "      <td>275.00</td>\n",
       "      <td>275.00</td>\n",
       "      <td>269.00</td>\n",
       "      <td>24.81M</td>\n",
       "      <td>-2.26%</td>\n",
       "    </tr>\n",
       "    <tr>\n",
       "      <th>2010-12-21</th>\n",
       "      <td>274.38</td>\n",
       "      <td>270.93</td>\n",
       "      <td>276.50</td>\n",
       "      <td>270.93</td>\n",
       "      <td>19.61M</td>\n",
       "      <td>1.60%</td>\n",
       "    </tr>\n",
       "    <tr>\n",
       "      <th>2010-12-22</th>\n",
       "      <td>274.50</td>\n",
       "      <td>274.80</td>\n",
       "      <td>278.80</td>\n",
       "      <td>273.00</td>\n",
       "      <td>18.94M</td>\n",
       "      <td>0.04%</td>\n",
       "    </tr>\n",
       "    <tr>\n",
       "      <th>2010-12-23</th>\n",
       "      <td>274.62</td>\n",
       "      <td>275.50</td>\n",
       "      <td>276.79</td>\n",
       "      <td>273.51</td>\n",
       "      <td>11.99M</td>\n",
       "      <td>0.04%</td>\n",
       "    </tr>\n",
       "    <tr>\n",
       "      <th>2010-12-24</th>\n",
       "      <td>275.54</td>\n",
       "      <td>274.60</td>\n",
       "      <td>276.90</td>\n",
       "      <td>273.00</td>\n",
       "      <td>11.55M</td>\n",
       "      <td>0.34%</td>\n",
       "    </tr>\n",
       "  </tbody>\n",
       "</table>\n",
       "</div>"
      ],
      "text/plain": [
       "             Price    Open    High     Low    Vol. Change %\n",
       "Date                                                       \n",
       "2010-12-20  270.05  275.00  275.00  269.00  24.81M   -2.26%\n",
       "2010-12-21  274.38  270.93  276.50  270.93  19.61M    1.60%\n",
       "2010-12-22  274.50  274.80  278.80  273.00  18.94M    0.04%\n",
       "2010-12-23  274.62  275.50  276.79  273.51  11.99M    0.04%\n",
       "2010-12-24  275.54  274.60  276.90  273.00  11.55M    0.34%"
      ]
     },
     "execution_count": 250,
     "metadata": {},
     "output_type": "execute_result"
    }
   ],
   "source": [
    "stock_prices = pd.read_csv(\n",
    "    '../input_data/sbi_stock_prices.csv',\n",
    "    parse_dates=['Date'],\n",
    "    index_col=\"Date\")\n",
    "stock_prices = stock_prices.sort_index(ascending=True, axis=0)\n",
    "stock_prices.head()"
   ]
  },
  {
   "cell_type": "markdown",
   "metadata": {},
   "source": [
    "### We cannot use train_test_split() from model_selection from sklearn ... This is a time series data so it need to be in order ...\n"
   ]
  },
  {
   "cell_type": "code",
   "execution_count": 251,
   "metadata": {},
   "outputs": [],
   "source": [
    "train_data = stock_prices[:1500]\n",
    "test_data = stock_prices[1500:]\n",
    "\n",
    "training = train_data[\"Price\"]\n",
    "validation = test_data[\"Price\"]"
   ]
  },
  {
   "cell_type": "code",
   "execution_count": 252,
   "metadata": {},
   "outputs": [
    {
     "name": "stdout",
     "output_type": "stream",
     "text": [
      "Fit ARIMA: order=(1, 1, 1) seasonal_order=(0, 1, 1, 12); AIC=8846.989, BIC=8873.512, Fit time=11.299 seconds\n",
      "Fit ARIMA: order=(0, 1, 0) seasonal_order=(0, 1, 0, 12); AIC=9846.068, BIC=9856.677, Fit time=0.173 seconds\n",
      "Fit ARIMA: order=(1, 1, 0) seasonal_order=(1, 1, 0, 12); AIC=9392.120, BIC=9413.338, Fit time=2.242 seconds\n",
      "Fit ARIMA: order=(0, 1, 1) seasonal_order=(0, 1, 1, 12); AIC=8846.574, BIC=8867.792, Fit time=7.623 seconds\n",
      "Fit ARIMA: order=(0, 1, 1) seasonal_order=(1, 1, 1, 12); AIC=8848.572, BIC=8875.095, Fit time=9.972 seconds\n",
      "Fit ARIMA: order=(0, 1, 1) seasonal_order=(0, 1, 0, 12); AIC=9818.367, BIC=9834.280, Fit time=0.688 seconds\n",
      "Fit ARIMA: order=(0, 1, 1) seasonal_order=(0, 1, 2, 12); AIC=8848.572, BIC=8875.095, Fit time=35.780 seconds\n",
      "Fit ARIMA: order=(0, 1, 1) seasonal_order=(1, 1, 2, 12); AIC=8847.487, BIC=8879.314, Fit time=19.780 seconds\n",
      "Fit ARIMA: order=(0, 1, 0) seasonal_order=(0, 1, 1, 12); AIC=8862.570, BIC=8878.484, Fit time=6.002 seconds\n",
      "Fit ARIMA: order=(0, 1, 2) seasonal_order=(0, 1, 1, 12); AIC=8847.117, BIC=8873.640, Fit time=9.429 seconds\n",
      "Fit ARIMA: order=(1, 1, 2) seasonal_order=(0, 1, 1, 12); AIC=nan, BIC=nan, Fit time=nan seconds\n",
      "Total fit time: 102.995 seconds\n"
     ]
    },
    {
     "data": {
      "text/plain": [
       "ARIMA(callback=None, disp=0, maxiter=50, method=None, order=(0, 1, 1),\n",
       "   out_of_sample_size=0, scoring='mse', scoring_args={},\n",
       "   seasonal_order=(0, 1, 1, 12), solver='lbfgs', start_params=None,\n",
       "   suppress_warnings=True, transparams=True, trend='c')"
      ]
     },
     "execution_count": 252,
     "metadata": {},
     "output_type": "execute_result"
    }
   ],
   "source": [
    "model = auto_arima(\n",
    "    training,\n",
    "    start_p=1,\n",
    "    start_q=1,\n",
    "    max_p=3,\n",
    "    max_q=3,\n",
    "    m=12,\n",
    "    start_P=0,\n",
    "    seasonal=True,\n",
    "    d=1,\n",
    "    D=1,\n",
    "    trace=True,\n",
    "    error_action='ignore',\n",
    "    suppress_warnings=True)\n",
    "model.fit(training)"
   ]
  },
  {
   "cell_type": "code",
   "execution_count": 253,
   "metadata": {},
   "outputs": [
    {
     "data": {
      "image/png": "[encoded data removed]",
      "text/plain": [
       "<Figure size 432x288 with 1 Axes>"
      ]
     },
     "metadata": {
      "needs_background": "light"
     },
     "output_type": "display_data"
    }
   ],
   "source": [
    "forecast = model.predict(n_periods=2005)\n",
    "forecast = pd.DataFrame(\n",
    "    forecast, index=stock_prices.index, columns=['Prediction'])\n",
    "\n",
    "plt.plot(forecast.index, forecast[\"Prediction\"])\n",
    "plt.plot(test_data.index, test_data[\"Price\"])\n",
    "plt.plot(train_data.index, train_data[\"Price\"])\n",
    "plt.xlabel(\"Date\")\n",
    "plt.ylabel(\"Price\")\n",
    "plt.show()"
   ]
  },
  {
   "cell_type": "markdown",
   "metadata": {},
   "source": [
    "### Root Mean Squared Error:\n",
    "\n"
   ]
  },
  {
   "cell_type": "markdown",
   "metadata": {},
   "source": [
    "#### The error is very high .. Very impractical ..."
   ]
  },
  {
   "cell_type": "code",
   "execution_count": 254,
   "metadata": {},
   "outputs": [
    {
     "data": {
      "text/plain": [
       "253.3119748249469"
      ]
     },
     "execution_count": 254,
     "metadata": {},
     "output_type": "execute_result"
    }
   ],
   "source": [
    "rms = np.sqrt(\n",
    "    np.mean(\n",
    "        np.power((np.array(stock_prices['Price']) - np.array(\n",
    "            forecast['Prediction'])), 2)))\n",
    "rms"
   ]
  },
  {
   "cell_type": "markdown",
   "metadata": {},
   "source": [
    "# Using Prophet (From Facebook)"
   ]
  },
  {
   "cell_type": "code",
   "execution_count": 255,
   "metadata": {},
   "outputs": [],
   "source": [
    "from fbprophet import Prophet"
   ]
  },
  {
   "cell_type": "code",
   "execution_count": 256,
   "metadata": {},
   "outputs": [
    {
     "name": "stderr",
     "output_type": "stream",
     "text": [
      "/home/codemantra/anaconda3/lib/python3.6/site-packages/pandas/core/frame.py:3781: SettingWithCopyWarning: \n",
      "A value is trying to be set on a copy of a slice from a DataFrame\n",
      "\n",
      "See the caveats in the documentation: http://pandas.pydata.org/pandas-docs/stable/indexing.html#indexing-view-versus-copy\n",
      "  return super(DataFrame, self).rename(**kwargs)\n",
      "INFO:fbprophet:Disabling daily seasonality. Run prophet with daily_seasonality=True to override this.\n"
     ]
    },
    {
     "data": {
      "text/plain": [
       "<fbprophet.forecaster.Prophet at 0x7fe7404c0048>"
      ]
     },
     "execution_count": 256,
     "metadata": {},
     "output_type": "execute_result"
    }
   ],
   "source": [
    "stock_prices = pd.read_csv(\n",
    "    '../input_data/sbi_stock_prices.csv', parse_dates=['Date'])\n",
    "stock_prices = stock_prices.sort_index(ascending=True, axis=0)\n",
    "\n",
    "#train and validation\n",
    "train = stock_prices[:1500]\n",
    "valid = stock_prices[500:]\n",
    "\n",
    "train.rename(columns={\"Price\": \"y\", \"Date\": \"ds\"}, inplace=True)\n",
    "\n",
    "#fit the model\n",
    "model = Prophet()\n",
    "model.fit(train)"
   ]
  },
  {
   "cell_type": "code",
   "execution_count": 257,
   "metadata": {},
   "outputs": [],
   "source": [
    "#predictions\n",
    "prices = model.make_future_dataframe(periods=500)\n",
    "forecast = model.predict(prices)\n"
   ]
  },
  {
   "cell_type": "code",
   "execution_count": 258,
   "metadata": {},
   "outputs": [
    {
     "data": {
      "image/png": "[encoded data removed]",
      "text/plain": [
       "<Figure size 432x288 with 1 Axes>"
      ]
     },
     "metadata": {
      "needs_background": "light"
     },
     "output_type": "display_data"
    }
   ],
   "source": [
    "plt.plot(forecast[\"ds\"], forecast[\"yhat\"])\n",
    "plt.plot(stock_prices[\"Date\"], stock_prices[\"Price\"])\n",
    "plt.xlabel(\"Date\")\n",
    "plt.ylabel(\"Price\")\n",
    "plt.show()"
   ]
  },
  {
   "cell_type": "markdown",
   "metadata": {},
   "source": [
    "## The root mean squared error is fairly low:\n"
   ]
  },
  {
   "cell_type": "markdown",
   "metadata": {},
   "source": [
    "#### This might be consciderable but markets do not only depend upon past performance \n"
   ]
  },
  {
   "cell_type": "code",
   "execution_count": 259,
   "metadata": {},
   "outputs": [
    {
     "data": {
      "text/plain": [
       "63.549825222790616"
      ]
     },
     "execution_count": 259,
     "metadata": {},
     "output_type": "execute_result"
    }
   ],
   "source": [
    "forecast_valid = forecast['yhat'][495:]\n",
    "rms = np.sqrt(\n",
    "    np.mean(np.power((np.array(valid['Price']) - np.array(forecast_valid)), 2)))\n",
    "rms"
   ]
  },
  {
   "cell_type": "markdown",
   "metadata": {},
   "source": [
    "# LSTM (Long Short Term Memory)\n"
   ]
  },
  {
   "cell_type": "code",
   "execution_count": 260,
   "metadata": {},
   "outputs": [],
   "source": [
    "from sklearn.preprocessing import MinMaxScaler\n",
    "from keras.models import Sequential\n",
    "from keras.layers import Dense, Dropout, LSTM"
   ]
  },
  {
   "cell_type": "code",
   "execution_count": 261,
   "metadata": {},
   "outputs": [
    {
     "data": {
      "text/html": [
       "<div>\n",
       "<style scoped>\n",
       "    .dataframe tbody tr th:only-of-type {\n",
       "        vertical-align: middle;\n",
       "    }\n",
       "\n",
       "    .dataframe tbody tr th {\n",
       "        vertical-align: top;\n",
       "    }\n",
       "\n",
       "    .dataframe thead th {\n",
       "        text-align: right;\n",
       "    }\n",
       "</style>\n",
       "<table border=\"1\" class=\"dataframe\">\n",
       "  <thead>\n",
       "    <tr style=\"text-align: right;\">\n",
       "      <th></th>\n",
       "      <th>Price</th>\n",
       "    </tr>\n",
       "    <tr>\n",
       "      <th>Date</th>\n",
       "      <th></th>\n",
       "    </tr>\n",
       "  </thead>\n",
       "  <tbody>\n",
       "    <tr>\n",
       "      <th>2010-12-20</th>\n",
       "      <td>270.05</td>\n",
       "    </tr>\n",
       "    <tr>\n",
       "      <th>2010-12-21</th>\n",
       "      <td>274.38</td>\n",
       "    </tr>\n",
       "  </tbody>\n",
       "</table>\n",
       "</div>"
      ],
      "text/plain": [
       "             Price\n",
       "Date              \n",
       "2010-12-20  270.05\n",
       "2010-12-21  274.38"
      ]
     },
     "execution_count": 261,
     "metadata": {},
     "output_type": "execute_result"
    }
   ],
   "source": [
    "stock_prices = pd.read_csv(\n",
    "    '../input_data/sbi_stock_prices.csv',\n",
    "    parse_dates=['Date'],\n",
    "    index_col=\"Date\")\n",
    "stock_prices = stock_prices.sort_index(ascending=True, axis=0)\n",
    "stock_prices = stock_prices.drop(columns = [\"Change %\", \"High\", \"Open\", \"Low\", \"Vol.\"])\n",
    "stock_prices.head(2)"
   ]
  },
  {
   "cell_type": "code",
   "execution_count": 262,
   "metadata": {},
   "outputs": [],
   "source": [
    "#train and validation\n",
    "train = stock_prices[:1500]\n",
    "valid = stock_prices[500:]"
   ]
  },
  {
   "cell_type": "code",
   "execution_count": 263,
   "metadata": {},
   "outputs": [],
   "source": [
    "scaler = MinMaxScaler(feature_range=(0, 1))\n",
    "scaled_data = scaler.fit_transform(stock_prices)\n",
    "\n",
    "x_train, y_train = [], []\n",
    "for i in range(60, len(train)):\n",
    "    x_train.append(scaled_data[i - 60:i, 0])\n",
    "    y_train.append(scaled_data[i, 0])\n",
    "x_train, y_train = np.array(x_train), np.array(y_train)\n",
    "\n",
    "x_train = np.reshape(x_train, (x_train.shape[0], x_train.shape[1], 1))"
   ]
  },
  {
   "cell_type": "code",
   "execution_count": 264,
   "metadata": {},
   "outputs": [],
   "source": [
    "# create and fit the LSTM network\n",
    "model = Sequential()\n",
    "model.add(LSTM(units=50, return_sequences=True, input_shape=(x_train.shape[1],1)))\n",
    "model.add(LSTM(units=50))\n",
    "model.add(Dense(1))"
   ]
  },
  {
   "cell_type": "code",
   "execution_count": 265,
   "metadata": {},
   "outputs": [
    {
     "name": "stdout",
     "output_type": "stream",
     "text": [
      "Epoch 1/1\n",
      " - 63s - loss: 0.0045\n"
     ]
    },
    {
     "data": {
      "text/plain": [
       "<keras.callbacks.History at 0x7fe717a55e48>"
      ]
     },
     "execution_count": 265,
     "metadata": {},
     "output_type": "execute_result"
    }
   ],
   "source": [
    "model.compile(loss='mean_squared_error', optimizer='adam')\n",
    "model.fit(x_train, y_train, epochs=1, batch_size=1, verbose=2)"
   ]
  },
  {
   "cell_type": "code",
   "execution_count": 266,
   "metadata": {},
   "outputs": [],
   "source": [
    "#predicting 246 values, using past 60 from the train data\n",
    "inputs = stock_prices[len(stock_prices) - len(valid) - 60:].values\n",
    "inputs = inputs.reshape(-1,1)\n",
    "inputs  = scaler.transform(inputs)"
   ]
  },
  {
   "cell_type": "code",
   "execution_count": 267,
   "metadata": {},
   "outputs": [],
   "source": [
    "X_test = []\n",
    "for i in range(60, inputs.shape[0]):\n",
    "    X_test.append(inputs[i - 60:i, 0])\n",
    "X_test = np.array(X_test)"
   ]
  },
  {
   "cell_type": "code",
   "execution_count": 268,
   "metadata": {},
   "outputs": [],
   "source": [
    "X_test = np.reshape(X_test, (X_test.shape[0], X_test.shape[1], 1))\n",
    "closing_price = model.predict(X_test)\n",
    "closing_price = scaler.inverse_transform(closing_price)"
   ]
  },
  {
   "cell_type": "markdown",
   "metadata": {},
   "source": [
    "### RSME is very low\n",
    "     This can be used as a go to algo."
   ]
  },
  {
   "cell_type": "code",
   "execution_count": 269,
   "metadata": {},
   "outputs": [
    {
     "data": {
      "text/plain": [
       "Price    8.146705\n",
       "dtype: float64"
      ]
     },
     "execution_count": 269,
     "metadata": {},
     "output_type": "execute_result"
    }
   ],
   "source": [
    "rms = np.sqrt(np.mean(np.power((valid - closing_price), 2)))\n",
    "rms"
   ]
  },
  {
   "cell_type": "code",
   "execution_count": 270,
   "metadata": {},
   "outputs": [
    {
     "name": "stderr",
     "output_type": "stream",
     "text": [
      "/home/codemantra/anaconda3/lib/python3.6/site-packages/ipykernel_launcher.py:3: SettingWithCopyWarning: \n",
      "A value is trying to be set on a copy of a slice from a DataFrame.\n",
      "Try using .loc[row_indexer,col_indexer] = value instead\n",
      "\n",
      "See the caveats in the documentation: http://pandas.pydata.org/pandas-docs/stable/indexing.html#indexing-view-versus-copy\n",
      "  This is separate from the ipykernel package so we can avoid doing imports until\n"
     ]
    },
    {
     "data": {
      "text/plain": [
       "[<matplotlib.lines.Line2D at 0x7fe7431978d0>,\n",
       " <matplotlib.lines.Line2D at 0x7fe743197978>]"
      ]
     },
     "execution_count": 270,
     "metadata": {},
     "output_type": "execute_result"
    },
    {
     "data": {
      "image/png": "[encoded data removed]",
      "text/plain": [
       "<Figure size 432x288 with 1 Axes>"
      ]
     },
     "metadata": {
      "needs_background": "light"
     },
     "output_type": "display_data"
    }
   ],
   "source": [
    "train = stock_prices[:1500]\n",
    "valid = stock_prices[500:]\n",
    "valid['Predictions'] = closing_price\n",
    "plt.plot(train['Price'])\n",
    "plt.plot(valid[['Price', 'Predictions']])"
   ]
  },
  {
   "cell_type": "code",
   "execution_count": null,
   "metadata": {},
   "outputs": [],
   "source": []
  }
 ],
 "metadata": {
  "kernelspec": {
   "display_name": "Python 3",
   "language": "python",
   "name": "python3"
  },
  "language_info": {
   "codemirror_mode": {
    "name": "ipython",
    "version": 3
   },
   "file_extension": ".py",
   "mimetype": "text/x-python",
   "name": "python",
   "nbconvert_exporter": "python",
   "pygments_lexer": "ipython3",
   "version": "3.6.8"
  }
 },
 "nbformat": 4,
 "nbformat_minor": 2
}
