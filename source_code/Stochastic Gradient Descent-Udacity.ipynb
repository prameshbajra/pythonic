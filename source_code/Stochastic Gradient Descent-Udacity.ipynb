{
 "cells": [
  {
   "cell_type": "code",
   "execution_count": 25,
   "metadata": {
    "ExecuteTime": {
     "end_time": "2019-04-01T09:22:07.521839Z",
     "start_time": "2019-04-01T09:22:07.513600Z"
    }
   },
   "outputs": [],
   "source": [
    "import numpy as np\n",
    "import tensorflow as tf\n",
    "import matplotlib.pyplot as plt\n",
    "import pickle"
   ]
  },
  {
   "cell_type": "code",
   "execution_count": 26,
   "metadata": {
    "ExecuteTime": {
     "end_time": "2019-04-01T09:22:07.583375Z",
     "start_time": "2019-04-01T09:22:07.529177Z"
    }
   },
   "outputs": [
    {
     "name": "stdout",
     "output_type": "stream",
     "text": [
      "Training set (2000, 28, 28) (2000,)\n",
      "Validation set (100, 28, 28) (100,)\n",
      "Test set (100, 28, 28) (100,)\n"
     ]
    }
   ],
   "source": [
    "pickle_file = '../input_data/notMnist/notMNIST.pickle'\n",
    "\n",
    "with open(pickle_file, 'rb') as f:\n",
    "    save = pickle.load(f)\n",
    "    train_dataset = save['train_dataset']\n",
    "    train_labels = save['train_labels']\n",
    "    valid_dataset = save['valid_dataset']\n",
    "    valid_labels = save['valid_labels']\n",
    "    test_dataset = save['test_dataset']\n",
    "    test_labels = save['test_labels']\n",
    "    del save  # hint to help gc free up memory\n",
    "    print('Training set', train_dataset.shape, train_labels.shape)\n",
    "    print('Validation set', valid_dataset.shape, valid_labels.shape)\n",
    "    print('Test set', test_dataset.shape, test_labels.shape)"
   ]
  },
  {
   "cell_type": "code",
   "execution_count": 27,
   "metadata": {
    "ExecuteTime": {
     "end_time": "2019-04-01T09:22:07.623689Z",
     "start_time": "2019-04-01T09:22:07.585095Z"
    }
   },
   "outputs": [],
   "source": [
    "image_size = 28\n",
    "num_labels = 10\n",
    "\n",
    "\n",
    "def reformat(dataset, labels):\n",
    "    dataset = dataset.reshape((-1, image_size * image_size)).astype(np.float32)\n",
    "    # Map 0 to [1.0, 0.0, 0.0 ...], 1 to [0.0, 1.0, 0.0 ...]\n",
    "    labels = (np.arange(num_labels) == labels[:, None]).astype(np.float32)\n",
    "    return dataset, labels"
   ]
  },
  {
   "cell_type": "code",
   "execution_count": 28,
   "metadata": {
    "ExecuteTime": {
     "end_time": "2019-04-01T09:22:07.661155Z",
     "start_time": "2019-04-01T09:22:07.626570Z"
    }
   },
   "outputs": [
    {
     "name": "stdout",
     "output_type": "stream",
     "text": [
      "Training set (2000, 784) (2000, 10)\n",
      "Validation set (100, 784) (100, 10)\n",
      "Test set (100, 784) (100, 10)\n"
     ]
    }
   ],
   "source": [
    "train_dataset, train_labels = reformat(train_dataset, train_labels)\n",
    "valid_dataset, valid_labels = reformat(valid_dataset, valid_labels)\n",
    "test_dataset, test_labels = reformat(test_dataset, test_labels)\n",
    "print('Training set', train_dataset.shape, train_labels.shape)\n",
    "print('Validation set', valid_dataset.shape, valid_labels.shape)\n",
    "print('Test set', test_dataset.shape, test_labels.shape)"
   ]
  },
  {
   "cell_type": "code",
   "execution_count": 29,
   "metadata": {
    "ExecuteTime": {
     "end_time": "2019-04-01T09:22:07.799622Z",
     "start_time": "2019-04-01T09:22:07.663543Z"
    }
   },
   "outputs": [],
   "source": [
    "train_subset = 10000\n",
    "\n",
    "graph = tf.Graph()\n",
    "with graph.as_default():\n",
    "    tf_train_dataset = tf.constant(train_dataset[:train_subset, :])\n",
    "    tf_train_labels = tf.constant(train_labels[:train_subset])\n",
    "    tf_valid_dataset = tf.constant(valid_dataset)\n",
    "    tf_test_dataset = tf.constant(test_dataset)\n",
    "\n",
    "    weights = tf.Variable(\n",
    "        tf.truncated_normal([image_size * image_size, num_labels]))\n",
    "    biases = tf.Variable(tf.zeros([num_labels]))\n",
    "    \n",
    "    logits = tf.matmul(tf_train_dataset, weights) + biases\n",
    "          \n",
    "    loss = tf.reduce_mean(\n",
    "        tf.nn.softmax_cross_entropy_with_logits(labels=tf_train_labels, logits=logits))\n",
    "\n",
    "    optimizer = tf.train.GradientDescentOptimizer(0.5).minimize(loss)\n",
    "\n",
    "    train_prediction = tf.nn.softmax(logits)\n",
    "    valid_prediction = tf.nn.softmax(\n",
    "        tf.matmul(tf_valid_dataset, weights) + biases)\n",
    "    test_prediction = tf.nn.softmax(\n",
    "        tf.matmul(tf_test_dataset, weights) + biases)"
   ]
  },
  {
   "cell_type": "code",
   "execution_count": 30,
   "metadata": {
    "ExecuteTime": {
     "end_time": "2019-04-01T09:22:07.921319Z",
     "start_time": "2019-04-01T09:22:07.801429Z"
    }
   },
   "outputs": [],
   "source": [
    "num_steps = 801\n",
    "\n",
    "def accuracy(predictions, labels):\n",
    "    return (100.0 * np.sum(np.argmax(predictions, 1) == np.argmax(labels, 1))\n",
    "            / predictions.shape[0])"
   ]
  },
  {
   "cell_type": "code",
   "execution_count": 31,
   "metadata": {
    "ExecuteTime": {
     "end_time": "2019-04-01T09:22:07.956115Z",
     "start_time": "2019-04-01T09:22:07.924096Z"
    }
   },
   "outputs": [],
   "source": [
    "num_steps = 801\n",
    "\n",
    "def accuracy(predictions, labels):\n",
    "    return (100.0 * np.sum(np.argmax(predictions, 1) == np.argmax(labels, 1))\n",
    "            / predictions.shape[0])"
   ]
  },
  {
   "cell_type": "code",
   "execution_count": 32,
   "metadata": {
    "ExecuteTime": {
     "end_time": "2019-04-01T09:22:12.860118Z",
     "start_time": "2019-04-01T09:22:07.960064Z"
    },
    "scrolled": true
   },
   "outputs": [
    {
     "name": "stdout",
     "output_type": "stream",
     "text": [
      "Initialized\n",
      "Loss at step 0: 13.050831\n",
      "Training accuracy: 16.1%\n",
      "Validation accuracy: 23.0%\n",
      "Loss at step 100: 1.878719\n",
      "Training accuracy: 74.3%\n",
      "Validation accuracy: 68.0%\n",
      "Loss at step 200: 1.304341\n",
      "Training accuracy: 79.3%\n",
      "Validation accuracy: 72.0%\n",
      "Loss at step 300: 0.981615\n",
      "Training accuracy: 82.2%\n",
      "Validation accuracy: 72.0%\n",
      "Loss at step 400: 0.770360\n",
      "Training accuracy: 84.7%\n",
      "Validation accuracy: 72.0%\n",
      "Loss at step 500: 0.625875\n",
      "Training accuracy: 86.6%\n",
      "Validation accuracy: 72.0%\n",
      "Loss at step 600: 0.522586\n",
      "Training accuracy: 88.9%\n",
      "Validation accuracy: 74.0%\n",
      "Loss at step 700: 0.445865\n",
      "Training accuracy: 90.7%\n",
      "Validation accuracy: 72.0%\n",
      "Loss at step 800: 0.386200\n",
      "Training accuracy: 92.5%\n",
      "Validation accuracy: 72.0%\n",
      "Test accuracy: 70.0%\n"
     ]
    }
   ],
   "source": [
    "with tf.Session(graph=graph) as session:\n",
    "    tf.global_variables_initializer().run()\n",
    "    print('Initialized')\n",
    "    for step in range(num_steps):\n",
    "        _, l, predictions = session.run([optimizer, loss, train_prediction])\n",
    "        if (step % 100 == 0):\n",
    "            print('Loss at step %d: %f' % (step, l))\n",
    "            print('Training accuracy: %.1f%%' % accuracy(\n",
    "                predictions, train_labels[:train_subset, :]))\n",
    "            print('Validation accuracy: %.1f%%' % accuracy(\n",
    "                valid_prediction.eval(), valid_labels))\n",
    "    print('Test accuracy: %.1f%%' % accuracy(\n",
    "        test_prediction.eval(), test_labels))"
   ]
  },
  {
   "cell_type": "code",
   "execution_count": 33,
   "metadata": {
    "ExecuteTime": {
     "end_time": "2019-04-01T09:22:12.955329Z",
     "start_time": "2019-04-01T09:22:12.861836Z"
    }
   },
   "outputs": [],
   "source": [
    "batch_size = 128\n",
    "\n",
    "graph = tf.Graph()\n",
    "with graph.as_default():\n",
    "    tf_train_dataset = tf.placeholder(tf.float32,\n",
    "                                      shape=(batch_size, image_size * image_size))\n",
    "    tf_train_labels = tf.placeholder(\n",
    "        tf.float32, shape=(batch_size, num_labels))\n",
    "    tf_valid_dataset = tf.constant(valid_dataset)\n",
    "    tf_test_dataset = tf.constant(test_dataset)\n",
    "\n",
    "    # Variables.\n",
    "    weights = tf.Variable(\n",
    "        tf.truncated_normal([image_size * image_size, num_labels]))\n",
    "    biases = tf.Variable(tf.zeros([num_labels]))\n",
    "\n",
    "    # Training computation.\n",
    "    logits = tf.matmul(tf_train_dataset, weights) + biases\n",
    "    loss = tf.reduce_mean(\n",
    "        tf.nn.softmax_cross_entropy_with_logits(labels=tf_train_labels, logits=logits))\n",
    "    # Assignment 3 : Add l2 regularization to the loss...\n",
    "    # Restrict the weights\n",
    "    loss = tf.reduce_mean(loss + 0.01 * tf.nn.l2_loss(weights))\n",
    "    # Optimizer.\n",
    "    optimizer = tf.train.GradientDescentOptimizer(0.5).minimize(loss)\n",
    "\n",
    "    train_prediction = tf.nn.softmax(logits)\n",
    "    valid_prediction = tf.nn.softmax(\n",
    "        tf.matmul(tf_valid_dataset, weights) + biases)\n",
    "    test_prediction = tf.nn.softmax(\n",
    "        tf.matmul(tf_test_dataset, weights) + biases)"
   ]
  },
  {
   "cell_type": "code",
   "execution_count": 34,
   "metadata": {
    "ExecuteTime": {
     "end_time": "2019-04-01T09:22:16.444276Z",
     "start_time": "2019-04-01T09:22:12.957019Z"
    },
    "scrolled": true
   },
   "outputs": [
    {
     "name": "stdout",
     "output_type": "stream",
     "text": [
      "Initialized\n",
      "Minibatch loss at step 0: 50.841618\n",
      "Minibatch accuracy: 7.0%\n",
      "Validation accuracy: 16.0%\n",
      "Minibatch loss at step 500: 0.720338\n",
      "Minibatch accuracy: 90.6%\n",
      "Validation accuracy: 74.0%\n",
      "Minibatch loss at step 1000: 0.598308\n",
      "Minibatch accuracy: 86.7%\n",
      "Validation accuracy: 73.0%\n",
      "Minibatch loss at step 1500: 0.710082\n",
      "Minibatch accuracy: 80.5%\n",
      "Validation accuracy: 73.0%\n",
      "Minibatch loss at step 2000: 0.521260\n",
      "Minibatch accuracy: 89.8%\n",
      "Validation accuracy: 76.0%\n",
      "Minibatch loss at step 2500: 0.531264\n",
      "Minibatch accuracy: 89.1%\n",
      "Validation accuracy: 72.0%\n",
      "Minibatch loss at step 3000: 0.522726\n",
      "Minibatch accuracy: 89.8%\n",
      "Validation accuracy: 77.0%\n",
      "Test accuracy: 79.0%\n"
     ]
    }
   ],
   "source": [
    "num_steps = 3001\n",
    "\n",
    "with tf.Session(graph=graph) as session:\n",
    "    tf.global_variables_initializer().run()\n",
    "    print(\"Initialized\")\n",
    "    for step in range(num_steps):\n",
    "        offset = (step * batch_size) % (train_labels.shape[0] - batch_size)\n",
    "\n",
    "        batch_data = train_dataset[offset:(offset + batch_size), :]\n",
    "        batch_labels = train_labels[offset:(offset + batch_size), :]\n",
    "\n",
    "        feed_dict = {tf_train_dataset: batch_data,\n",
    "                     tf_train_labels: batch_labels}\n",
    "        \n",
    "        _, l, predictions = session.run(\n",
    "            [optimizer, loss, train_prediction], feed_dict=feed_dict)\n",
    "        \n",
    "        if (step % 500 == 0):\n",
    "            print(\"Minibatch loss at step %d: %f\" % (step, l))\n",
    "            print(\"Minibatch accuracy: %.1f%%\" %\n",
    "                  accuracy(predictions, batch_labels))\n",
    "            print(\"Validation accuracy: %.1f%%\" % accuracy(\n",
    "                valid_prediction.eval(), valid_labels))\n",
    "    print(\"Test accuracy: %.1f%%\" % accuracy(\n",
    "        test_prediction.eval(), test_labels))"
   ]
  },
  {
   "cell_type": "code",
   "execution_count": 35,
   "metadata": {
    "ExecuteTime": {
     "end_time": "2019-04-01T09:22:16.738032Z",
     "start_time": "2019-04-01T09:22:16.446246Z"
    }
   },
   "outputs": [],
   "source": [
    "num_nodes= 1024\n",
    "batch_size = 128\n",
    "\n",
    "tf.reset_default_graph()\n",
    "\n",
    "graph = tf.Graph()\n",
    "with graph.as_default():\n",
    "    tf_train_dataset = tf.placeholder(tf.float32, shape = (batch_size, image_size * image_size))\n",
    "    tf_train_labels = tf.placeholder(tf.float32, shape=(batch_size, num_labels))\n",
    "    tf_test_dataset= tf.constant(test_dataset)\n",
    "    tf_valid_dataset = tf.constant(valid_dataset)\n",
    "    \n",
    "    weights = tf.Variable(tf.truncated_normal([image_size * image_size, num_nodes]))\n",
    "    biases = tf.Variable(tf.zeros([num_nodes]))\n",
    "    \n",
    "    weights_1 = tf.Variable(tf.truncated_normal([num_nodes, num_labels]))\n",
    "    biases_1 = tf.Variable(tf.zeros([num_labels]))\n",
    "    \n",
    "    relu_layer = tf.nn.relu(tf.matmul(tf_train_dataset, weights) + biases)\n",
    "    \n",
    "    logits = tf.matmul(relu_layer, weights_1) + biases_1\n",
    "    \n",
    "    loss = tf.reduce_mean(\n",
    "      tf.nn.softmax_cross_entropy_with_logits(logits = logits, labels = tf_train_labels))\n",
    "    \n",
    "    # Assignment number 3    \n",
    "    regularizer = tf.nn.l2_loss(weights) + tf.nn.l2_loss(weights_1)\n",
    "    loss = tf.reduce_mean(loss + 0.01 * regularizer)\n",
    "    # Optimizer.\n",
    "    optimizer = tf.train.GradientDescentOptimizer(0.5).minimize(loss)\n",
    "\n",
    "    train_prediction = tf.nn.softmax(logits)\n",
    "    \n",
    "    valid_prediction_1 = tf.nn.softmax(\n",
    "     tf.matmul(tf.nn.relu(tf.matmul(tf_valid_dataset, weights) + biases), weights_1) + biases_1)\n",
    "    test_prediction_1 =  tf.nn.softmax(\n",
    "     tf.matmul(tf.nn.relu(tf.matmul(tf_test_dataset, weights) + biases), weights_1) + biases_1)"
   ]
  },
  {
   "cell_type": "code",
   "execution_count": 36,
   "metadata": {
    "ExecuteTime": {
     "end_time": "2019-04-01T09:22:45.001550Z",
     "start_time": "2019-04-01T09:22:16.739713Z"
    },
    "scrolled": true
   },
   "outputs": [
    {
     "name": "stdout",
     "output_type": "stream",
     "text": [
      "Minibatch loss at step 0: 3464.188721\n",
      "Minibatch accuracy: 7.0%\n",
      "Validation accuracy: 29.0%\n",
      "============================\n",
      "Test accuracy: 31.0%\n",
      "Minibatch loss at step 500: 21.149706\n",
      "Minibatch accuracy: 100.0%\n",
      "Validation accuracy: 79.0%\n",
      "============================\n",
      "Test accuracy: 80.0%\n",
      "Minibatch loss at step 1000: 0.680280\n",
      "Minibatch accuracy: 97.7%\n",
      "Validation accuracy: 77.0%\n",
      "============================\n",
      "Test accuracy: 84.0%\n",
      "Minibatch loss at step 1500: 0.566923\n",
      "Minibatch accuracy: 96.9%\n",
      "Validation accuracy: 77.0%\n",
      "============================\n",
      "Test accuracy: 83.0%\n",
      "Minibatch loss at step 2000: 0.502925\n",
      "Minibatch accuracy: 97.7%\n",
      "Validation accuracy: 76.0%\n",
      "============================\n",
      "Test accuracy: 79.0%\n",
      "Minibatch loss at step 2500: 0.475365\n",
      "Minibatch accuracy: 98.4%\n",
      "Validation accuracy: 79.0%\n",
      "============================\n",
      "Test accuracy: 82.0%\n",
      "Minibatch loss at step 3000: 0.455955\n",
      "Minibatch accuracy: 98.4%\n",
      "Validation accuracy: 78.0%\n",
      "============================\n",
      "Test accuracy: 80.0%\n"
     ]
    }
   ],
   "source": [
    "steps = 3001\n",
    "with tf.Session(graph=graph) as session:\n",
    "    tf.initialize_all_variables().run()\n",
    "    for step in range(steps):\n",
    "        offset = (step * batch_size) % (train_labels.shape[0] - batch_size)\n",
    "        # Generate a minibatch.\n",
    "        batch_data = train_dataset[offset:(offset + batch_size), :]\n",
    "        batch_labels = train_labels[offset:(offset + batch_size), :]\n",
    "        feed_dict = {tf_train_dataset: batch_data, tf_train_labels: batch_labels}\n",
    "        _, l, predictions = session.run(\n",
    "          [optimizer, loss, train_prediction], feed_dict=feed_dict)\n",
    "        if (step % 500 == 0):\n",
    "            print(\"Minibatch loss at step %d: %f\" % (step, l))\n",
    "            print(\"Minibatch accuracy: %.1f%%\" %\n",
    "                  accuracy(predictions, batch_labels))\n",
    "            print(\"Validation accuracy: %.1f%%\" % accuracy(\n",
    "            valid_prediction_1.eval(), valid_labels))\n",
    "            print(\"============================\")\n",
    "            print(\"Test accuracy: %.1f%%\" % accuracy(test_prediction_1.eval(), test_labels))"
   ]
  },
  {
   "cell_type": "code",
   "execution_count": null,
   "metadata": {},
   "outputs": [],
   "source": []
  }
 ],
 "metadata": {
  "kernelspec": {
   "display_name": "Python 3",
   "language": "python",
   "name": "python3"
  },
  "language_info": {
   "codemirror_mode": {
    "name": "ipython",
    "version": 3
   },
   "file_extension": ".py",
   "mimetype": "text/x-python",
   "name": "python",
   "nbconvert_exporter": "python",
   "pygments_lexer": "ipython3",
   "version": "3.6.8"
  }
 },
 "nbformat": 4,
 "nbformat_minor": 2
}
