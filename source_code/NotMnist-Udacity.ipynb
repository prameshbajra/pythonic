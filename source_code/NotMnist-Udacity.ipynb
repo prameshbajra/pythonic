{
 "cells": [
  {
   "cell_type": "code",
   "execution_count": 58,
   "metadata": {
    "ExecuteTime": {
     "end_time": "2019-03-26T11:17:11.446003Z",
     "start_time": "2019-03-26T11:17:08.763167Z"
    }
   },
   "outputs": [],
   "source": [
    "import numpy as np\n",
    "import os\n",
    "import sys\n",
    "import tarfile\n",
    "import pickle\n",
    "import imageio\n",
    "import matplotlib.pyplot as plt\n",
    "import matplotlib.image as mimage\n",
    "%matplotlib inline \n",
    "\n",
    "from six.moves.urllib.request import urlretrieve"
   ]
  },
  {
   "cell_type": "code",
   "execution_count": 59,
   "metadata": {
    "ExecuteTime": {
     "end_time": "2019-03-26T11:17:11.450736Z",
     "start_time": "2019-03-26T11:17:11.448097Z"
    }
   },
   "outputs": [],
   "source": [
    "url = 'https://commondatastorage.googleapis.com/books1000/'\n",
    "last_percent_reported = None\n",
    "data_root = '../input_data/notMnist/' # Change me to store data elsewhere"
   ]
  },
  {
   "cell_type": "code",
   "execution_count": 60,
   "metadata": {
    "ExecuteTime": {
     "end_time": "2019-03-26T11:17:11.529669Z",
     "start_time": "2019-03-26T11:17:11.452605Z"
    }
   },
   "outputs": [],
   "source": [
    "def download_progress_hook(count, blockSize, totalSize):\n",
    "    \"\"\"A hook to report the progress of a download. This is mostly intended for users with\n",
    "    slow internet connections. Reports every 5% change in download progress.\n",
    "    \"\"\"\n",
    "    global last_percent_reported\n",
    "    percent = int(count * blockSize * 100 / totalSize)\n",
    "\n",
    "    if last_percent_reported != percent:\n",
    "        if percent % 5 == 0:\n",
    "            sys.stdout.write(\"%s%%\" % percent)\n",
    "            sys.stdout.flush()\n",
    "        else:\n",
    "            sys.stdout.write(\".\")\n",
    "            sys.stdout.flush()\n",
    "\n",
    "        last_percent_reported = percent"
   ]
  },
  {
   "cell_type": "code",
   "execution_count": 61,
   "metadata": {
    "ExecuteTime": {
     "end_time": "2019-03-26T11:17:11.564746Z",
     "start_time": "2019-03-26T11:17:11.532623Z"
    }
   },
   "outputs": [],
   "source": [
    "def maybe_download(filename, expected_bytes, force=False):\n",
    "    \"\"\"Download a file if not present, and make sure it's the right size.\"\"\"\n",
    "    dest_filename = os.path.join(data_root, filename)\n",
    "    if force or not os.path.exists(dest_filename):\n",
    "        print('Attempting to download:', filename)\n",
    "        filename, _ = urlretrieve(url + filename, dest_filename, reporthook=download_progress_hook)\n",
    "        print('\\nDownload Complete!')\n",
    "    statinfo = os.stat(dest_filename)\n",
    "    if statinfo.st_size == expected_bytes:\n",
    "        print('Found and verified', dest_filename)\n",
    "    else:\n",
    "        raise Exception(\n",
    "            'Failed to verify ' + dest_filename + '. Can you get to it with a browser?')\n",
    "    return dest_filename"
   ]
  },
  {
   "cell_type": "code",
   "execution_count": 62,
   "metadata": {
    "ExecuteTime": {
     "end_time": "2019-03-26T11:17:11.609313Z",
     "start_time": "2019-03-26T11:17:11.567025Z"
    }
   },
   "outputs": [
    {
     "name": "stdout",
     "output_type": "stream",
     "text": [
      "Found and verified ../input_data/notMnist/notMNIST_large.tar.gz\n",
      "Found and verified ../input_data/notMnist/notMNIST_small.tar.gz\n"
     ]
    }
   ],
   "source": [
    "train_filename = maybe_download('notMNIST_large.tar.gz', 247336696)\n",
    "test_filename = maybe_download('notMNIST_small.tar.gz', 8458043)"
   ]
  },
  {
   "cell_type": "code",
   "execution_count": 63,
   "metadata": {
    "ExecuteTime": {
     "end_time": "2019-03-26T11:17:11.668860Z",
     "start_time": "2019-03-26T11:17:11.611128Z"
    }
   },
   "outputs": [],
   "source": [
    "num_classes = 10\n",
    "np.random.seed(133)\n",
    "\n",
    "def maybe_extract(filename, force=False):\n",
    "    root = os.path.splitext(os.path.splitext(filename)[0])[0]  # remove .tar.gz\n",
    "    if os.path.isdir(root) and not force:\n",
    "        # You may override by setting force=True.\n",
    "        print('%s already present - Skipping extraction of %s.' % (root, filename))\n",
    "    else:\n",
    "        print('Extracting data for %s. This may take a while. Please wait.' % root)\n",
    "        tar = tarfile.open(filename)\n",
    "        sys.stdout.flush()\n",
    "        tar.extractall(data_root)\n",
    "        tar.close()\n",
    "    data_folders = [\n",
    "        os.path.join(root, d) for d in sorted(os.listdir(root))\n",
    "        if os.path.isdir(os.path.join(root, d))]\n",
    "    if len(data_folders) != num_classes:\n",
    "        raise Exception(\n",
    "            'Expected %d folders, one per class. Found %d instead.' % (\n",
    "                num_classes, len(data_folders)))\n",
    "    print(data_folders)\n",
    "    return data_folders"
   ]
  },
  {
   "cell_type": "code",
   "execution_count": 64,
   "metadata": {
    "ExecuteTime": {
     "end_time": "2019-03-26T11:17:11.847249Z",
     "start_time": "2019-03-26T11:17:11.670641Z"
    }
   },
   "outputs": [
    {
     "name": "stdout",
     "output_type": "stream",
     "text": [
      "../input_data/notMnist/notMNIST_large already present - Skipping extraction of ../input_data/notMnist/notMNIST_large.tar.gz.\n",
      "['../input_data/notMnist/notMNIST_large/A', '../input_data/notMnist/notMNIST_large/B', '../input_data/notMnist/notMNIST_large/C', '../input_data/notMnist/notMNIST_large/D', '../input_data/notMnist/notMNIST_large/E', '../input_data/notMnist/notMNIST_large/F', '../input_data/notMnist/notMNIST_large/G', '../input_data/notMnist/notMNIST_large/H', '../input_data/notMnist/notMNIST_large/I', '../input_data/notMnist/notMNIST_large/J']\n",
      "../input_data/notMnist/notMNIST_small already present - Skipping extraction of ../input_data/notMnist/notMNIST_small.tar.gz.\n",
      "['../input_data/notMnist/notMNIST_small/A', '../input_data/notMnist/notMNIST_small/B', '../input_data/notMnist/notMNIST_small/C', '../input_data/notMnist/notMNIST_small/D', '../input_data/notMnist/notMNIST_small/E', '../input_data/notMnist/notMNIST_small/F', '../input_data/notMnist/notMNIST_small/G', '../input_data/notMnist/notMNIST_small/H', '../input_data/notMnist/notMNIST_small/I', '../input_data/notMnist/notMNIST_small/J']\n"
     ]
    }
   ],
   "source": [
    "train_folders = maybe_extract(train_filename)\n",
    "test_folders = maybe_extract(test_filename)"
   ]
  },
  {
   "cell_type": "code",
   "execution_count": 65,
   "metadata": {
    "ExecuteTime": {
     "end_time": "2019-03-26T11:17:12.156326Z",
     "start_time": "2019-03-26T11:17:11.849569Z"
    }
   },
   "outputs": [
    {
     "data": {
      "image/png": "[encoded data removed]",
      "text/plain": [
       "<Figure size 360x360 with 3 Axes>"
      ]
     },
     "metadata": {
      "needs_background": "light"
     },
     "output_type": "display_data"
    }
   ],
   "source": [
    "plt.figure(figsize=(5, 5))\n",
    "\n",
    "plt.subplot(5, 5, 1)\n",
    "fig = mimage.imread(\"../input_data/notMnist/notMNIST_large/B/Q0sgRXZvbHV0aW9uLnR0Zg==.png\")\n",
    "plt.imshow(fig, cmap=\"gray\")\n",
    "\n",
    "plt.subplot(5, 5, 2)\n",
    "fig = mimage.imread(\"../input_data/notMnist/notMNIST_large/A/Q0sgU2NyaXB0LnR0Zg==.png\")\n",
    "plt.imshow(fig, cmap=\"gray\")\n",
    "\n",
    "plt.subplot(5, 5, 3)\n",
    "fig = mimage.imread(\"../input_data/notMnist/notMNIST_large/J/Q0sgRm9ydHVuZS50dGY=.png\")\n",
    "plt.imshow(fig, cmap=\"gray\")\n",
    "\n",
    "plt.show()"
   ]
  },
  {
   "cell_type": "code",
   "execution_count": 66,
   "metadata": {
    "ExecuteTime": {
     "end_time": "2019-03-26T11:17:12.167878Z",
     "start_time": "2019-03-26T11:17:12.158321Z"
    }
   },
   "outputs": [],
   "source": [
    "image_size = 28  # Pixel width and height.\n",
    "pixel_depth = 255.0  # Number of levels per pixel.\n",
    "\n",
    "def load_letter(folder, min_num_images):\n",
    "    \"\"\"Load the data for a single letter label.\"\"\"\n",
    "    image_files = os.listdir(folder)\n",
    "    dataset = np.ndarray(shape=(len(image_files), image_size, image_size),\n",
    "                         dtype=np.float32)\n",
    "    print(folder)\n",
    "    num_images = 0\n",
    "    for image in image_files:\n",
    "        image_file = os.path.join(folder, image)\n",
    "        try:\n",
    "            image_data = (imageio.imread(image_file).astype(float) -\n",
    "                          pixel_depth / 2) / pixel_depth\n",
    "            if image_data.shape != (image_size, image_size):\n",
    "                raise Exception('Unexpected image shape: %s' % str(image_data.shape))\n",
    "            dataset[num_images, :, :] = image_data\n",
    "            num_images = num_images + 1\n",
    "        except (IOError, ValueError) as e:\n",
    "            print('Could not read:', image_file, ':', e, '- it\\'s ok, skipping.')\n",
    "\n",
    "    dataset = dataset[0:num_images, :, :]\n",
    "    if num_images < min_num_images:\n",
    "        raise Exception('Many fewer images than expected: %d < %d' %\n",
    "                        (num_images, min_num_images))\n",
    "\n",
    "    print('Full dataset tensor:', dataset.shape)\n",
    "    print('Mean:', np.mean(dataset))\n",
    "    print('Standard deviation:', np.std(dataset))\n",
    "    return dataset"
   ]
  },
  {
   "cell_type": "code",
   "execution_count": 67,
   "metadata": {
    "ExecuteTime": {
     "end_time": "2019-03-26T11:17:12.204922Z",
     "start_time": "2019-03-26T11:17:12.172598Z"
    }
   },
   "outputs": [],
   "source": [
    "def maybe_pickle(data_folders, min_num_images_per_class, force=False):\n",
    "    dataset_names = []\n",
    "    for folder in data_folders:\n",
    "        set_filename = folder + '.pickle'\n",
    "        dataset_names.append(set_filename)\n",
    "        if os.path.exists(set_filename) and not force:\n",
    "            # You may override by setting force=True.\n",
    "            print('%s already present - Skipping pickling.' % set_filename)\n",
    "        else:\n",
    "            print('Pickling %s.' % set_filename)\n",
    "            dataset = load_letter(folder, min_num_images_per_class)\n",
    "            try:\n",
    "                with open(set_filename, 'wb') as f:\n",
    "                    pickle.dump(dataset, f, pickle.HIGHEST_PROTOCOL)\n",
    "            except Exception as e:\n",
    "                print('Unable to save data to', set_filename, ':', e)\n",
    "\n",
    "    return dataset_names"
   ]
  },
  {
   "cell_type": "code",
   "execution_count": 68,
   "metadata": {
    "ExecuteTime": {
     "end_time": "2019-03-26T12:20:07.970227Z",
     "start_time": "2019-03-26T11:17:12.209236Z"
    }
   },
   "outputs": [
    {
     "name": "stdout",
     "output_type": "stream",
     "text": [
      "Pickling ../input_data/notMnist/notMNIST_large/A.pickle.\n",
      "../input_data/notMnist/notMNIST_large/A\n",
      "Could not read: ../input_data/notMnist/notMNIST_large/A/SG90IE11c3RhcmQgQlROIFBvc3Rlci50dGY=.png : Could not find a format to read the specified file in mode 'i' - it's ok, skipping.\n",
      "Could not read: ../input_data/notMnist/notMNIST_large/A/Um9tYW5hIEJvbGQucGZi.png : Could not find a format to read the specified file in mode 'i' - it's ok, skipping.\n",
      "Could not read: ../input_data/notMnist/notMNIST_large/A/RnJlaWdodERpc3BCb29rSXRhbGljLnR0Zg==.png : Could not find a format to read the specified file in mode 'i' - it's ok, skipping.\n",
      "Full dataset tensor: (52909, 28, 28)\n",
      "Mean: -0.12825006\n",
      "Standard deviation: 0.4431204\n",
      "Pickling ../input_data/notMnist/notMNIST_large/B.pickle.\n",
      "../input_data/notMnist/notMNIST_large/B\n",
      "Could not read: ../input_data/notMnist/notMNIST_large/B/TmlraXNFRi1TZW1pQm9sZEl0YWxpYy5vdGY=.png : Could not find a format to read the specified file in mode 'i' - it's ok, skipping.\n",
      "Full dataset tensor: (52911, 28, 28)\n",
      "Mean: -0.0075630383\n",
      "Standard deviation: 0.45449153\n",
      "Pickling ../input_data/notMnist/notMNIST_large/C.pickle.\n",
      "../input_data/notMnist/notMNIST_large/C\n",
      "Full dataset tensor: (52912, 28, 28)\n",
      "Mean: -0.14225815\n",
      "Standard deviation: 0.43980655\n",
      "Pickling ../input_data/notMnist/notMNIST_large/D.pickle.\n",
      "../input_data/notMnist/notMNIST_large/D\n",
      "Could not read: ../input_data/notMnist/notMNIST_large/D/VHJhbnNpdCBCb2xkLnR0Zg==.png : Could not find a format to read the specified file in mode 'i' - it's ok, skipping.\n",
      "Full dataset tensor: (52911, 28, 28)\n",
      "Mean: -0.057367746\n",
      "Standard deviation: 0.4556473\n",
      "Pickling ../input_data/notMnist/notMNIST_large/E.pickle.\n",
      "../input_data/notMnist/notMNIST_large/E\n",
      "Full dataset tensor: (52912, 28, 28)\n",
      "Mean: -0.06989897\n",
      "Standard deviation: 0.4529415\n",
      "Pickling ../input_data/notMnist/notMNIST_large/F.pickle.\n",
      "../input_data/notMnist/notMNIST_large/F\n",
      "Full dataset tensor: (52912, 28, 28)\n",
      "Mean: -0.12558305\n",
      "Standard deviation: 0.44708964\n",
      "Pickling ../input_data/notMnist/notMNIST_large/G.pickle.\n",
      "../input_data/notMnist/notMNIST_large/G\n",
      "Full dataset tensor: (52912, 28, 28)\n",
      "Mean: -0.09458156\n",
      "Standard deviation: 0.44623998\n",
      "Pickling ../input_data/notMnist/notMNIST_large/H.pickle.\n",
      "../input_data/notMnist/notMNIST_large/H\n",
      "Full dataset tensor: (52912, 28, 28)\n",
      "Mean: -0.068522006\n",
      "Standard deviation: 0.45423147\n",
      "Pickling ../input_data/notMnist/notMNIST_large/I.pickle.\n",
      "../input_data/notMnist/notMNIST_large/I\n",
      "Full dataset tensor: (52912, 28, 28)\n",
      "Mean: 0.030786239\n",
      "Standard deviation: 0.46889877\n",
      "Pickling ../input_data/notMnist/notMNIST_large/J.pickle.\n",
      "../input_data/notMnist/notMNIST_large/J\n",
      "Full dataset tensor: (52911, 28, 28)\n",
      "Mean: -0.15335801\n",
      "Standard deviation: 0.44365633\n",
      "Pickling ../input_data/notMnist/notMNIST_small/A.pickle.\n",
      "../input_data/notMnist/notMNIST_small/A\n",
      "Could not read: ../input_data/notMnist/notMNIST_small/A/RGVtb2NyYXRpY2FCb2xkT2xkc3R5bGUgQm9sZC50dGY=.png : Could not find a format to read the specified file in mode 'i' - it's ok, skipping.\n",
      "Full dataset tensor: (1872, 28, 28)\n",
      "Mean: -0.13262635\n",
      "Standard deviation: 0.445128\n",
      "Pickling ../input_data/notMnist/notMNIST_small/B.pickle.\n",
      "../input_data/notMnist/notMNIST_small/B\n",
      "Full dataset tensor: (1873, 28, 28)\n",
      "Mean: 0.005356082\n",
      "Standard deviation: 0.45711535\n",
      "Pickling ../input_data/notMnist/notMNIST_small/C.pickle.\n",
      "../input_data/notMnist/notMNIST_small/C\n",
      "Full dataset tensor: (1873, 28, 28)\n",
      "Mean: -0.14152054\n",
      "Standard deviation: 0.4426904\n",
      "Pickling ../input_data/notMnist/notMNIST_small/D.pickle.\n",
      "../input_data/notMnist/notMNIST_small/D\n",
      "Full dataset tensor: (1873, 28, 28)\n",
      "Mean: -0.049216673\n",
      "Standard deviation: 0.45975894\n",
      "Pickling ../input_data/notMnist/notMNIST_small/E.pickle.\n",
      "../input_data/notMnist/notMNIST_small/E\n",
      "Full dataset tensor: (1873, 28, 28)\n",
      "Mean: -0.059914775\n",
      "Standard deviation: 0.45734966\n",
      "Pickling ../input_data/notMnist/notMNIST_small/F.pickle.\n",
      "../input_data/notMnist/notMNIST_small/F\n",
      "Could not read: ../input_data/notMnist/notMNIST_small/F/Q3Jvc3NvdmVyIEJvbGRPYmxpcXVlLnR0Zg==.png : Could not find a format to read the specified file in mode 'i' - it's ok, skipping.\n",
      "Full dataset tensor: (1872, 28, 28)\n",
      "Mean: -0.11818529\n",
      "Standard deviation: 0.45227855\n",
      "Pickling ../input_data/notMnist/notMNIST_small/G.pickle.\n",
      "../input_data/notMnist/notMNIST_small/G\n",
      "Full dataset tensor: (1872, 28, 28)\n",
      "Mean: -0.092550315\n",
      "Standard deviation: 0.4490059\n",
      "Pickling ../input_data/notMnist/notMNIST_small/H.pickle.\n",
      "../input_data/notMnist/notMNIST_small/H\n",
      "Full dataset tensor: (1872, 28, 28)\n",
      "Mean: -0.058689263\n",
      "Standard deviation: 0.45875886\n",
      "Pickling ../input_data/notMnist/notMNIST_small/I.pickle.\n",
      "../input_data/notMnist/notMNIST_small/I\n",
      "Full dataset tensor: (1872, 28, 28)\n",
      "Mean: 0.052645065\n",
      "Standard deviation: 0.47189352\n",
      "Pickling ../input_data/notMnist/notMNIST_small/J.pickle.\n",
      "../input_data/notMnist/notMNIST_small/J\n",
      "Full dataset tensor: (1872, 28, 28)\n",
      "Mean: -0.15168922\n",
      "Standard deviation: 0.44801354\n"
     ]
    }
   ],
   "source": [
    "train_datasets = maybe_pickle(train_folders, 45000)\n",
    "test_datasets = maybe_pickle(test_folders, 1800)"
   ]
  },
  {
   "cell_type": "code",
   "execution_count": null,
   "metadata": {},
   "outputs": [],
   "source": []
  }
 ],
 "metadata": {
  "kernelspec": {
   "display_name": "Python 3",
   "language": "python",
   "name": "python3"
  },
  "language_info": {
   "codemirror_mode": {
    "name": "ipython",
    "version": 3
   },
   "file_extension": ".py",
   "mimetype": "text/x-python",
   "name": "python",
   "nbconvert_exporter": "python",
   "pygments_lexer": "ipython3",
   "version": "3.6.8"
  }
 },
 "nbformat": 4,
 "nbformat_minor": 2
}
