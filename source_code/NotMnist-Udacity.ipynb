{
 "cells": [
  {
   "cell_type": "code",
   "execution_count": 2,
   "metadata": {
    "ExecuteTime": {
     "end_time": "2019-03-27T06:00:02.974300Z",
     "start_time": "2019-03-27T06:00:02.342347Z"
    }
   },
   "outputs": [],
   "source": [
    "import numpy as np\n",
    "import os\n",
    "import sys\n",
    "import tarfile\n",
    "import pickle\n",
    "import imageio\n",
    "import matplotlib.pyplot as plt\n",
    "import matplotlib.image as mimage\n",
    "%matplotlib inline \n",
    "\n",
    "from six.moves.urllib.request import urlretrieve"
   ]
  },
  {
   "cell_type": "code",
   "execution_count": 3,
   "metadata": {
    "ExecuteTime": {
     "end_time": "2019-03-27T06:00:02.979662Z",
     "start_time": "2019-03-27T06:00:02.976902Z"
    }
   },
   "outputs": [],
   "source": [
    "url = 'https://commondatastorage.googleapis.com/books1000/'\n",
    "last_percent_reported = None\n",
    "data_root = '../input_data/notMnist/' # Change me to store data elsewhere"
   ]
  },
  {
   "cell_type": "code",
   "execution_count": 4,
   "metadata": {
    "ExecuteTime": {
     "end_time": "2019-03-27T06:00:03.020354Z",
     "start_time": "2019-03-27T06:00:02.981330Z"
    }
   },
   "outputs": [],
   "source": [
    "def download_progress_hook(count, blockSize, totalSize):\n",
    "    \"\"\"A hook to report the progress of a download. This is mostly intended for users with\n",
    "    slow internet connections. Reports every 5% change in download progress.\n",
    "    \"\"\"\n",
    "    global last_percent_reported\n",
    "    percent = int(count * blockSize * 100 / totalSize)\n",
    "\n",
    "    if last_percent_reported != percent:\n",
    "        if percent % 5 == 0:\n",
    "            sys.stdout.write(\"%s%%\" % percent)\n",
    "            sys.stdout.flush()\n",
    "        else:\n",
    "            sys.stdout.write(\".\")\n",
    "            sys.stdout.flush()\n",
    "\n",
    "        last_percent_reported = percent"
   ]
  },
  {
   "cell_type": "code",
   "execution_count": 5,
   "metadata": {
    "ExecuteTime": {
     "end_time": "2019-03-27T06:00:03.303636Z",
     "start_time": "2019-03-27T06:00:03.297741Z"
    }
   },
   "outputs": [],
   "source": [
    "def maybe_download(filename, expected_bytes, force=False):\n",
    "    \"\"\"Download a file if not present, and make sure it's the right size.\"\"\"\n",
    "    dest_filename = os.path.join(data_root, filename)\n",
    "    if force or not os.path.exists(dest_filename):\n",
    "        print('Attempting to download:', filename)\n",
    "        filename, _ = urlretrieve(url + filename, dest_filename, reporthook=download_progress_hook)\n",
    "        print('\\nDownload Complete!')\n",
    "    statinfo = os.stat(dest_filename)\n",
    "    if statinfo.st_size == expected_bytes:\n",
    "        print('Found and verified', dest_filename)\n",
    "    else:\n",
    "        raise Exception(\n",
    "            'Failed to verify ' + dest_filename + '. Can you get to it with a browser?')\n",
    "    return dest_filename"
   ]
  },
  {
   "cell_type": "code",
   "execution_count": 6,
   "metadata": {
    "ExecuteTime": {
     "end_time": "2019-03-27T06:00:03.781912Z",
     "start_time": "2019-03-27T06:00:03.777908Z"
    }
   },
   "outputs": [
    {
     "name": "stdout",
     "output_type": "stream",
     "text": [
      "Found and verified ../input_data/notMnist/notMNIST_large.tar.gz\n",
      "Found and verified ../input_data/notMnist/notMNIST_small.tar.gz\n"
     ]
    }
   ],
   "source": [
    "train_filename = maybe_download('notMNIST_large.tar.gz', 247336696)\n",
    "test_filename = maybe_download('notMNIST_small.tar.gz', 8458043)"
   ]
  },
  {
   "cell_type": "code",
   "execution_count": 17,
   "metadata": {
    "ExecuteTime": {
     "end_time": "2019-03-27T06:06:20.958327Z",
     "start_time": "2019-03-27T06:06:20.945926Z"
    }
   },
   "outputs": [],
   "source": [
    "num_classes = 10\n",
    "np.random.seed(133)\n",
    "\n",
    "def maybe_extract(filename, force=False):\n",
    "    root = os.path.splitext(os.path.splitext(filename)[0])[0]  # remove .tar.gz\n",
    "    if os.path.isdir(root) and not force:\n",
    "        # You may override by setting force=True.\n",
    "        print('%s already present - Skipping extraction of %s.' % (root, filename))\n",
    "    else:\n",
    "        print('Extracting data for %s. This may take a while. Please wait.' % root)\n",
    "        tar = tarfile.open(filename)\n",
    "        sys.stdout.flush()\n",
    "        tar.extractall(data_root)\n",
    "        tar.close()\n",
    "    data_folders = [\n",
    "        os.path.join(root, d) for d in sorted(os.listdir(root))\n",
    "        if os.path.isdir(os.path.join(root, d))]\n",
    "    if len(data_folders) != num_classes:\n",
    "        raise Exception(\n",
    "            'Expected %d folders, one per class. Found %d instead.' % (\n",
    "                num_classes, len(data_folders)))\n",
    "    print(data_folders)\n",
    "    return data_folders"
   ]
  },
  {
   "cell_type": "code",
   "execution_count": 18,
   "metadata": {
    "ExecuteTime": {
     "end_time": "2019-03-27T06:06:21.363177Z",
     "start_time": "2019-03-27T06:06:21.358197Z"
    }
   },
   "outputs": [
    {
     "name": "stdout",
     "output_type": "stream",
     "text": [
      "../input_data/notMnist/notMNIST_large already present - Skipping extraction of ../input_data/notMnist/notMNIST_large.tar.gz.\n",
      "['../input_data/notMnist/notMNIST_large/A', '../input_data/notMnist/notMNIST_large/B', '../input_data/notMnist/notMNIST_large/C', '../input_data/notMnist/notMNIST_large/D', '../input_data/notMnist/notMNIST_large/E', '../input_data/notMnist/notMNIST_large/F', '../input_data/notMnist/notMNIST_large/G', '../input_data/notMnist/notMNIST_large/H', '../input_data/notMnist/notMNIST_large/I', '../input_data/notMnist/notMNIST_large/J']\n",
      "../input_data/notMnist/notMNIST_small already present - Skipping extraction of ../input_data/notMnist/notMNIST_small.tar.gz.\n",
      "['../input_data/notMnist/notMNIST_small/A', '../input_data/notMnist/notMNIST_small/B', '../input_data/notMnist/notMNIST_small/C', '../input_data/notMnist/notMNIST_small/D', '../input_data/notMnist/notMNIST_small/E', '../input_data/notMnist/notMNIST_small/F', '../input_data/notMnist/notMNIST_small/G', '../input_data/notMnist/notMNIST_small/H', '../input_data/notMnist/notMNIST_small/I', '../input_data/notMnist/notMNIST_small/J']\n"
     ]
    }
   ],
   "source": [
    "train_folders = maybe_extract(train_filename)\n",
    "test_folders = maybe_extract(test_filename)"
   ]
  },
  {
   "cell_type": "code",
   "execution_count": 19,
   "metadata": {
    "ExecuteTime": {
     "end_time": "2019-03-27T06:06:22.328288Z",
     "start_time": "2019-03-27T06:06:22.032411Z"
    }
   },
   "outputs": [
    {
     "data": {
      "image/png": "[encoded data removed]",
      "text/plain": [
       "<Figure size 360x360 with 3 Axes>"
      ]
     },
     "metadata": {
      "needs_background": "light"
     },
     "output_type": "display_data"
    }
   ],
   "source": [
    "plt.figure(figsize=(5, 5))\n",
    "\n",
    "plt.subplot(5, 5, 1)\n",
    "fig = mimage.imread(\"../input_data/notMnist/notMNIST_large/B/Q0sgRXZvbHV0aW9uLnR0Zg==.png\")\n",
    "plt.imshow(fig, cmap=\"gray\")\n",
    "\n",
    "plt.subplot(5, 5, 2)\n",
    "fig = mimage.imread(\"../input_data/notMnist/notMNIST_large/A/Q0sgU2NyaXB0LnR0Zg==.png\")\n",
    "plt.imshow(fig, cmap=\"gray\")\n",
    "\n",
    "plt.subplot(5, 5, 3)\n",
    "fig = mimage.imread(\"../input_data/notMnist/notMNIST_large/J/Q0sgRm9ydHVuZS50dGY=.png\")\n",
    "plt.imshow(fig, cmap=\"gray\")\n",
    "\n",
    "plt.show()"
   ]
  },
  {
   "cell_type": "code",
   "execution_count": 20,
   "metadata": {
    "ExecuteTime": {
     "end_time": "2019-03-27T06:06:22.653358Z",
     "start_time": "2019-03-27T06:06:22.639469Z"
    }
   },
   "outputs": [],
   "source": [
    "image_size = 28  # Pixel width and height.\n",
    "pixel_depth = 255.0  # Number of levels per pixel.\n",
    "\n",
    "def load_letter(folder, min_num_images):\n",
    "    \"\"\"Load the data for a single letter label.\"\"\"\n",
    "    image_files = os.listdir(folder)\n",
    "    dataset = np.ndarray(shape=(len(image_files), image_size, image_size),\n",
    "                         dtype=np.float32)\n",
    "    print(folder)\n",
    "    num_images = 0\n",
    "    for image in image_files:\n",
    "        image_file = os.path.join(folder, image)\n",
    "        try:\n",
    "            image_data = (imageio.imread(image_file).astype(float) -\n",
    "                          pixel_depth / 2) / pixel_depth\n",
    "            if image_data.shape != (image_size, image_size):\n",
    "                raise Exception('Unexpected image shape: %s' % str(image_data.shape))\n",
    "            dataset[num_images, :, :] = image_data\n",
    "            num_images = num_images + 1\n",
    "        except (IOError, ValueError) as e:\n",
    "            print('Could not read:', image_file, ':', e, '- it\\'s ok, skipping.')\n",
    "\n",
    "    dataset = dataset[0:num_images, :, :]\n",
    "    if num_images < min_num_images:\n",
    "        raise Exception('Many fewer images than expected: %d < %d' %\n",
    "                        (num_images, min_num_images))\n",
    "\n",
    "    print('Full dataset tensor:', dataset.shape)\n",
    "    print('Mean:', np.mean(dataset))\n",
    "    print('Standard deviation:', np.std(dataset))\n",
    "    return dataset"
   ]
  },
  {
   "cell_type": "code",
   "execution_count": 21,
   "metadata": {
    "ExecuteTime": {
     "end_time": "2019-03-27T06:06:23.467195Z",
     "start_time": "2019-03-27T06:06:23.456465Z"
    }
   },
   "outputs": [],
   "source": [
    "def maybe_pickle(data_folders, min_num_images_per_class, force=False):\n",
    "    dataset_names = []\n",
    "    for folder in data_folders:\n",
    "        set_filename = folder + '.pickle'\n",
    "        dataset_names.append(set_filename)\n",
    "        if os.path.exists(set_filename) and not force:\n",
    "            # You may override by setting force=True.\n",
    "            print('%s already present - Skipping pickling.' % set_filename)\n",
    "        else:\n",
    "            print('Pickling %s.' % set_filename)\n",
    "            dataset = load_letter(folder, min_num_images_per_class)\n",
    "            try:\n",
    "                with open(set_filename, 'wb') as f:\n",
    "                    pickle.dump(dataset, f, pickle.HIGHEST_PROTOCOL)\n",
    "            except Exception as e:\n",
    "                print('Unable to save data to', set_filename, ':', e)\n",
    "\n",
    "    return dataset_names"
   ]
  },
  {
   "cell_type": "code",
   "execution_count": 22,
   "metadata": {
    "ExecuteTime": {
     "end_time": "2019-03-27T06:06:24.582627Z",
     "start_time": "2019-03-27T06:06:24.575967Z"
    },
    "scrolled": true
   },
   "outputs": [
    {
     "name": "stdout",
     "output_type": "stream",
     "text": [
      "../input_data/notMnist/notMNIST_large/A.pickle already present - Skipping pickling.\n",
      "../input_data/notMnist/notMNIST_large/B.pickle already present - Skipping pickling.\n",
      "../input_data/notMnist/notMNIST_large/C.pickle already present - Skipping pickling.\n",
      "../input_data/notMnist/notMNIST_large/D.pickle already present - Skipping pickling.\n",
      "../input_data/notMnist/notMNIST_large/E.pickle already present - Skipping pickling.\n",
      "../input_data/notMnist/notMNIST_large/F.pickle already present - Skipping pickling.\n",
      "../input_data/notMnist/notMNIST_large/G.pickle already present - Skipping pickling.\n",
      "../input_data/notMnist/notMNIST_large/H.pickle already present - Skipping pickling.\n",
      "../input_data/notMnist/notMNIST_large/I.pickle already present - Skipping pickling.\n",
      "../input_data/notMnist/notMNIST_large/J.pickle already present - Skipping pickling.\n",
      "../input_data/notMnist/notMNIST_small/A.pickle already present - Skipping pickling.\n",
      "../input_data/notMnist/notMNIST_small/B.pickle already present - Skipping pickling.\n",
      "../input_data/notMnist/notMNIST_small/C.pickle already present - Skipping pickling.\n",
      "../input_data/notMnist/notMNIST_small/D.pickle already present - Skipping pickling.\n",
      "../input_data/notMnist/notMNIST_small/E.pickle already present - Skipping pickling.\n",
      "../input_data/notMnist/notMNIST_small/F.pickle already present - Skipping pickling.\n",
      "../input_data/notMnist/notMNIST_small/G.pickle already present - Skipping pickling.\n",
      "../input_data/notMnist/notMNIST_small/H.pickle already present - Skipping pickling.\n",
      "../input_data/notMnist/notMNIST_small/I.pickle already present - Skipping pickling.\n",
      "../input_data/notMnist/notMNIST_small/J.pickle already present - Skipping pickling.\n"
     ]
    }
   ],
   "source": [
    "train_datasets = maybe_pickle(train_folders, 45000)\n",
    "test_datasets = maybe_pickle(test_folders, 1800)"
   ]
  },
  {
   "cell_type": "markdown",
   "metadata": {},
   "source": [
    "## Challenge 2:\n"
   ]
  },
  {
   "cell_type": "code",
   "execution_count": 49,
   "metadata": {
    "ExecuteTime": {
     "end_time": "2019-03-27T06:31:32.674446Z",
     "start_time": "2019-03-27T06:31:05.832816Z"
    }
   },
   "outputs": [],
   "source": [
    "train_data = []\n",
    "test_data = []\n",
    "for data_set in train_datasets:\n",
    "    train_data.append(pickle.load(open(data_set, \"rb\")))\n",
    "for data_set in test_datasets:\n",
    "    test_data.append(pickle.load(open(data_set, \"rb\")))"
   ]
  },
  {
   "cell_type": "code",
   "execution_count": 59,
   "metadata": {
    "ExecuteTime": {
     "end_time": "2019-03-27T06:34:44.100341Z",
     "start_time": "2019-03-27T06:34:43.766205Z"
    }
   },
   "outputs": [
    {
     "data": {
      "text/plain": [
       "<matplotlib.image.AxesImage at 0x7f53678ea6a0>"
      ]
     },
     "execution_count": 59,
     "metadata": {},
     "output_type": "execute_result"
    },
    {
     "data": {
      "image/png": "[encoded data removed]",
      "text/plain": [
       "<Figure size 576x576 with 2 Axes>"
      ]
     },
     "metadata": {
      "needs_background": "light"
     },
     "output_type": "display_data"
    }
   ],
   "source": [
    "plt.figure(figsize=(8, 8))\n",
    "plt.subplot(2, 2, 1)\n",
    "plt.imshow(train_data[1][122], cmap=\"gray\")\n",
    "\n",
    "plt.subplot(2, 2, 2)\n",
    "plt.imshow(train_data[0][1452], cmap=\"gray\")"
   ]
  },
  {
   "cell_type": "markdown",
   "metadata": {},
   "source": [
    "## Challenge 3:\n"
   ]
  },
  {
   "cell_type": "code",
   "execution_count": 63,
   "metadata": {
    "ExecuteTime": {
     "end_time": "2019-03-27T06:38:18.363496Z",
     "start_time": "2019-03-27T06:38:18.356849Z"
    },
    "scrolled": true
   },
   "outputs": [
    {
     "name": "stdout",
     "output_type": "stream",
     "text": [
      "Train data for 0 => 52909\n",
      "Test data for 0 => 1872\n",
      "Train data for 1 => 52911\n",
      "Test data for 1 => 1873\n",
      "Train data for 2 => 52912\n",
      "Test data for 2 => 1873\n",
      "Train data for 3 => 52911\n",
      "Test data for 3 => 1873\n",
      "Train data for 4 => 52912\n",
      "Test data for 4 => 1873\n",
      "Train data for 5 => 52912\n",
      "Test data for 5 => 1872\n",
      "Train data for 6 => 52912\n",
      "Test data for 6 => 1872\n",
      "Train data for 7 => 52912\n",
      "Test data for 7 => 1872\n",
      "Train data for 8 => 52912\n",
      "Test data for 8 => 1872\n",
      "Train data for 9 => 52911\n",
      "Test data for 9 => 1872\n"
     ]
    }
   ],
   "source": [
    "for i in range(10):\n",
    "    print(f\"Train data for {i} => {len(train_data[i])}\")\n",
    "    print(f\"Test data for {i} => {len(test_data[i])}\")"
   ]
  },
  {
   "cell_type": "code",
   "execution_count": 74,
   "metadata": {
    "ExecuteTime": {
     "end_time": "2019-03-27T06:49:13.835933Z",
     "start_time": "2019-03-27T06:49:13.825605Z"
    }
   },
   "outputs": [],
   "source": [
    "def make_arrays(nb_rows, img_size):\n",
    "    if nb_rows:\n",
    "        dataset = np.ndarray((nb_rows, img_size, img_size), dtype=np.float32)\n",
    "        labels = np.ndarray(nb_rows, dtype=np.int32)\n",
    "    else:\n",
    "        dataset, labels = None, None\n",
    "    return dataset, labels"
   ]
  },
  {
   "cell_type": "code",
   "execution_count": 75,
   "metadata": {
    "ExecuteTime": {
     "end_time": "2019-03-27T06:49:14.381106Z",
     "start_time": "2019-03-27T06:49:14.366095Z"
    }
   },
   "outputs": [],
   "source": [
    "def merge_datasets(pickle_files, train_size, valid_size=0):\n",
    "    num_classes = len(pickle_files)\n",
    "    valid_dataset, valid_labels = make_arrays(valid_size, image_size)\n",
    "    train_dataset, train_labels = make_arrays(train_size, image_size)\n",
    "    vsize_per_class = valid_size // num_classes\n",
    "    tsize_per_class = train_size // num_classes\n",
    "\n",
    "    start_v, start_t = 0, 0\n",
    "    end_v, end_t = vsize_per_class, tsize_per_class\n",
    "    end_l = vsize_per_class + tsize_per_class\n",
    "    for label, pickle_file in enumerate(pickle_files):\n",
    "        try:\n",
    "            with open(pickle_file, 'rb') as f:\n",
    "                letter_set = pickle.load(f)\n",
    "                # let's shuffle the letters to have random validation and training set\n",
    "                np.random.shuffle(letter_set)\n",
    "                if valid_dataset is not None:\n",
    "                    valid_letter = letter_set[:vsize_per_class, :, :]\n",
    "                    valid_dataset[start_v:end_v, :, :] = valid_letter\n",
    "                    valid_labels[start_v:end_v] = label\n",
    "                    start_v += vsize_per_class\n",
    "                    end_v += vsize_per_class\n",
    "\n",
    "                train_letter = letter_set[vsize_per_class:end_l, :, :]\n",
    "                train_dataset[start_t:end_t, :, :] = train_letter\n",
    "                train_labels[start_t:end_t] = label\n",
    "                start_t += tsize_per_class\n",
    "                end_t += tsize_per_class\n",
    "        except Exception as e:\n",
    "            print('Unable to process data from', pickle_file, ':', e)\n",
    "            raise\n",
    "\n",
    "    return valid_dataset, valid_labels, train_dataset, train_labels"
   ]
  },
  {
   "cell_type": "code",
   "execution_count": 76,
   "metadata": {
    "ExecuteTime": {
     "end_time": "2019-03-27T06:50:46.404329Z",
     "start_time": "2019-03-27T06:49:14.989742Z"
    }
   },
   "outputs": [
    {
     "name": "stdout",
     "output_type": "stream",
     "text": [
      "Training: (200000, 28, 28) (200000,)\n",
      "Validation: (10000, 28, 28) (10000,)\n",
      "Testing: (10000, 28, 28) (10000,)\n"
     ]
    }
   ],
   "source": [
    "train_size = 200000\n",
    "valid_size = 10000\n",
    "test_size = 10000\n",
    "\n",
    "valid_dataset, valid_labels, train_dataset, train_labels = merge_datasets(\n",
    "  train_datasets, train_size, valid_size)\n",
    "_, _, test_dataset, test_labels = merge_datasets(test_datasets, test_size)\n",
    "\n",
    "print('Training:', train_dataset.shape, train_labels.shape)\n",
    "print('Validation:', valid_dataset.shape, valid_labels.shape)\n",
    "print('Testing:', test_dataset.shape, test_labels.shape)"
   ]
  },
  {
   "cell_type": "code",
   "execution_count": 77,
   "metadata": {
    "ExecuteTime": {
     "end_time": "2019-03-27T06:50:51.320652Z",
     "start_time": "2019-03-27T06:50:46.570874Z"
    }
   },
   "outputs": [
    {
     "data": {
      "text/plain": [
       "<matplotlib.image.AxesImage at 0x7f5367502e80>"
      ]
     },
     "execution_count": 77,
     "metadata": {},
     "output_type": "execute_result"
    },
    {
     "data": {
      "image/png": "[encoded data removed]",
      "text/plain": [
       "<Figure size 576x576 with 2 Axes>"
      ]
     },
     "metadata": {
      "needs_background": "light"
     },
     "output_type": "display_data"
    }
   ],
   "source": [
    "plt.figure(figsize=(8, 8))\n",
    "plt.subplot(2, 2, 1)\n",
    "plt.imshow(train_dataset[189], cmap=\"gray\")\n",
    "\n",
    "plt.subplot(2, 2, 2)\n",
    "plt.imshow(train_dataset[345], cmap=\"gray\")  "
   ]
  },
  {
   "cell_type": "code",
   "execution_count": 78,
   "metadata": {
    "ExecuteTime": {
     "end_time": "2019-03-27T06:50:58.133271Z",
     "start_time": "2019-03-27T06:50:51.322379Z"
    }
   },
   "outputs": [],
   "source": [
    "def randomize(dataset, labels):\n",
    "    permutation = np.random.permutation(labels.shape[0])\n",
    "    shuffled_dataset = dataset[permutation,:,:]\n",
    "    shuffled_labels = labels[permutation]\n",
    "    return shuffled_dataset, shuffled_labels\n",
    "\n",
    "train_dataset, train_labels = randomize(train_dataset, train_labels)\n",
    "test_dataset, test_labels = randomize(test_dataset, test_labels)\n",
    "valid_dataset, valid_labels = randomize(valid_dataset, valid_labels)"
   ]
  },
  {
   "cell_type": "markdown",
   "metadata": {},
   "source": [
    "## Problem 4 :\n",
    "\n",
    "#### Verification"
   ]
  },
  {
   "cell_type": "code",
   "execution_count": 79,
   "metadata": {
    "ExecuteTime": {
     "end_time": "2019-03-27T06:50:58.661051Z",
     "start_time": "2019-03-27T06:50:58.136085Z"
    }
   },
   "outputs": [
    {
     "data": {
      "text/plain": [
       "<matplotlib.image.AxesImage at 0x7f536742ff60>"
      ]
     },
     "execution_count": 79,
     "metadata": {},
     "output_type": "execute_result"
    },
    {
     "data": {
      "image/png": "[encoded data removed]",
      "text/plain": [
       "<Figure size 576x576 with 2 Axes>"
      ]
     },
     "metadata": {
      "needs_background": "light"
     },
     "output_type": "display_data"
    }
   ],
   "source": [
    "plt.figure(figsize=(8, 8))\n",
    "plt.subplot(2, 2, 1)\n",
    "plt.imshow(train_dataset[189], cmap=\"gray\")\n",
    "\n",
    "plt.subplot(2, 2, 2)\n",
    "plt.imshow(train_dataset[345], cmap=\"gray\")                                "
   ]
  },
  {
   "cell_type": "code",
   "execution_count": 80,
   "metadata": {
    "ExecuteTime": {
     "end_time": "2019-03-27T06:55:54.335431Z",
     "start_time": "2019-03-27T06:53:58.872288Z"
    }
   },
   "outputs": [],
   "source": [
    "pickle_file = os.path.join(data_root, 'notMNIST.pickle')\n",
    "\n",
    "try:\n",
    "    f = open(pickle_file, 'wb')\n",
    "    save = {\n",
    "        'train_dataset': train_dataset,\n",
    "        'train_labels': train_labels,\n",
    "        'valid_dataset': valid_dataset,\n",
    "        'valid_labels': valid_labels,\n",
    "        'test_dataset': test_dataset,\n",
    "        'test_labels': test_labels,\n",
    "    }\n",
    "    pickle.dump(save, f, pickle.HIGHEST_PROTOCOL)\n",
    "    f.close()\n",
    "except Exception as e:\n",
    "    print('Unable to save data to', pickle_file, ':', e)\n",
    "    raise"
   ]
  },
  {
   "cell_type": "code",
   "execution_count": 81,
   "metadata": {
    "ExecuteTime": {
     "end_time": "2019-03-27T07:11:39.295578Z",
     "start_time": "2019-03-27T07:11:39.095925Z"
    }
   },
   "outputs": [
    {
     "name": "stdout",
     "output_type": "stream",
     "text": [
      "Compressed pickle size: 690800506\n"
     ]
    }
   ],
   "source": [
    "statinfo = os.stat(pickle_file)\n",
    "print('Compressed pickle size:', statinfo.st_size)"
   ]
  },
  {
   "cell_type": "code",
   "execution_count": null,
   "metadata": {},
   "outputs": [],
   "source": []
  }
 ],
 "metadata": {
  "kernelspec": {
   "display_name": "Python 3",
   "language": "python",
   "name": "python3"
  },
  "language_info": {
   "codemirror_mode": {
    "name": "ipython",
    "version": 3
   },
   "file_extension": ".py",
   "mimetype": "text/x-python",
   "name": "python",
   "nbconvert_exporter": "python",
   "pygments_lexer": "ipython3",
   "version": "3.6.8"
  }
 },
 "nbformat": 4,
 "nbformat_minor": 2
}
