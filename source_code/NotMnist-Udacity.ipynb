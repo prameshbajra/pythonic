{
 "cells": [
  {
   "cell_type": "code",
   "execution_count": 1,
   "metadata": {
    "ExecuteTime": {
     "end_time": "2019-03-27T09:58:44.678429Z",
     "start_time": "2019-03-27T09:58:43.354508Z"
    }
   },
   "outputs": [],
   "source": [
    "import numpy as np\n",
    "import os\n",
    "import sys\n",
    "import tarfile\n",
    "import pickle\n",
    "import imageio\n",
    "import matplotlib.pyplot as plt\n",
    "import matplotlib.image as mimage\n",
    "import tensorflow as tf\n",
    "%matplotlib inline \n",
    "\n",
    "from six.moves.urllib.request import urlretrieve"
   ]
  },
  {
   "cell_type": "code",
   "execution_count": 2,
   "metadata": {
    "ExecuteTime": {
     "end_time": "2019-03-27T09:58:44.685276Z",
     "start_time": "2019-03-27T09:58:44.682106Z"
    }
   },
   "outputs": [],
   "source": [
    "url = 'https://commondatastorage.googleapis.com/books1000/'\n",
    "last_percent_reported = None\n",
    "data_root = '../input_data/notMnist/' # Change me to store data elsewhere"
   ]
  },
  {
   "cell_type": "code",
   "execution_count": 3,
   "metadata": {
    "ExecuteTime": {
     "end_time": "2019-03-27T09:58:44.723293Z",
     "start_time": "2019-03-27T09:58:44.687065Z"
    }
   },
   "outputs": [],
   "source": [
    "def download_progress_hook(count, blockSize, totalSize):\n",
    "    \"\"\"A hook to report the progress of a download. This is mostly intended for users with\n",
    "    slow internet connections. Reports every 5% change in download progress.\n",
    "    \"\"\"\n",
    "    global last_percent_reported\n",
    "    percent = int(count * blockSize * 100 / totalSize)\n",
    "\n",
    "    if last_percent_reported != percent:\n",
    "        if percent % 5 == 0:\n",
    "            sys.stdout.write(\"%s%%\" % percent)\n",
    "            sys.stdout.flush()\n",
    "        else:\n",
    "            sys.stdout.write(\".\")\n",
    "            sys.stdout.flush()\n",
    "\n",
    "        last_percent_reported = percent"
   ]
  },
  {
   "cell_type": "code",
   "execution_count": 4,
   "metadata": {
    "ExecuteTime": {
     "end_time": "2019-03-27T09:58:44.767869Z",
     "start_time": "2019-03-27T09:58:44.726108Z"
    }
   },
   "outputs": [],
   "source": [
    "def maybe_download(filename, expected_bytes, force=False):\n",
    "    \"\"\"Download a file if not present, and make sure it's the right size.\"\"\"\n",
    "    dest_filename = os.path.join(data_root, filename)\n",
    "    if force or not os.path.exists(dest_filename):\n",
    "        print('Attempting to download:', filename)\n",
    "        filename, _ = urlretrieve(url + filename, dest_filename, reporthook=download_progress_hook)\n",
    "        print('\\nDownload Complete!')\n",
    "    statinfo = os.stat(dest_filename)\n",
    "    if statinfo.st_size == expected_bytes:\n",
    "        print('Found and verified', dest_filename)\n",
    "    else:\n",
    "        raise Exception(\n",
    "            'Failed to verify ' + dest_filename + '. Can you get to it with a browser?')\n",
    "    return dest_filename"
   ]
  },
  {
   "cell_type": "code",
   "execution_count": 5,
   "metadata": {
    "ExecuteTime": {
     "end_time": "2019-03-27T09:58:44.811231Z",
     "start_time": "2019-03-27T09:58:44.770574Z"
    }
   },
   "outputs": [
    {
     "name": "stdout",
     "output_type": "stream",
     "text": [
      "Found and verified ../input_data/notMnist/notMNIST_large.tar.gz\n",
      "Found and verified ../input_data/notMnist/notMNIST_small.tar.gz\n"
     ]
    }
   ],
   "source": [
    "train_filename = maybe_download('notMNIST_large.tar.gz', 247336696)\n",
    "test_filename = maybe_download('notMNIST_small.tar.gz', 8458043)"
   ]
  },
  {
   "cell_type": "code",
   "execution_count": 6,
   "metadata": {
    "ExecuteTime": {
     "end_time": "2019-03-27T09:58:44.955456Z",
     "start_time": "2019-03-27T09:58:44.813114Z"
    }
   },
   "outputs": [],
   "source": [
    "num_classes = 10\n",
    "np.random.seed(133)\n",
    "\n",
    "def maybe_extract(filename, force=False):\n",
    "    root = os.path.splitext(os.path.splitext(filename)[0])[0]  # remove .tar.gz\n",
    "    if os.path.isdir(root) and not force:\n",
    "        # You may override by setting force=True.\n",
    "        print('%s already present - Skipping extraction of %s.' % (root, filename))\n",
    "    else:\n",
    "        print('Extracting data for %s. This may take a while. Please wait.' % root)\n",
    "        tar = tarfile.open(filename)\n",
    "        sys.stdout.flush()\n",
    "        tar.extractall(data_root)\n",
    "        tar.close()\n",
    "    data_folders = [\n",
    "        os.path.join(root, d) for d in sorted(os.listdir(root))\n",
    "        if os.path.isdir(os.path.join(root, d))]\n",
    "    if len(data_folders) != num_classes:\n",
    "        raise Exception(\n",
    "            'Expected %d folders, one per class. Found %d instead.' % (\n",
    "                num_classes, len(data_folders)))\n",
    "    print(data_folders)\n",
    "    return data_folders"
   ]
  },
  {
   "cell_type": "code",
   "execution_count": 7,
   "metadata": {
    "ExecuteTime": {
     "end_time": "2019-03-27T09:58:45.025735Z",
     "start_time": "2019-03-27T09:58:44.957542Z"
    }
   },
   "outputs": [
    {
     "name": "stdout",
     "output_type": "stream",
     "text": [
      "../input_data/notMnist/notMNIST_large already present - Skipping extraction of ../input_data/notMnist/notMNIST_large.tar.gz.\n",
      "['../input_data/notMnist/notMNIST_large/A', '../input_data/notMnist/notMNIST_large/B', '../input_data/notMnist/notMNIST_large/C', '../input_data/notMnist/notMNIST_large/D', '../input_data/notMnist/notMNIST_large/E', '../input_data/notMnist/notMNIST_large/F', '../input_data/notMnist/notMNIST_large/G', '../input_data/notMnist/notMNIST_large/H', '../input_data/notMnist/notMNIST_large/I', '../input_data/notMnist/notMNIST_large/J']\n",
      "../input_data/notMnist/notMNIST_small already present - Skipping extraction of ../input_data/notMnist/notMNIST_small.tar.gz.\n",
      "['../input_data/notMnist/notMNIST_small/A', '../input_data/notMnist/notMNIST_small/B', '../input_data/notMnist/notMNIST_small/C', '../input_data/notMnist/notMNIST_small/D', '../input_data/notMnist/notMNIST_small/E', '../input_data/notMnist/notMNIST_small/F', '../input_data/notMnist/notMNIST_small/G', '../input_data/notMnist/notMNIST_small/H', '../input_data/notMnist/notMNIST_small/I', '../input_data/notMnist/notMNIST_small/J']\n"
     ]
    }
   ],
   "source": [
    "train_folders = maybe_extract(train_filename)\n",
    "test_folders = maybe_extract(test_filename)"
   ]
  },
  {
   "cell_type": "code",
   "execution_count": 8,
   "metadata": {
    "ExecuteTime": {
     "end_time": "2019-03-27T09:58:45.341014Z",
     "start_time": "2019-03-27T09:58:45.028146Z"
    }
   },
   "outputs": [
    {
     "data": {
      "image/png": "[encoded data removed]",
      "text/plain": [
       "<Figure size 360x360 with 3 Axes>"
      ]
     },
     "metadata": {
      "needs_background": "light"
     },
     "output_type": "display_data"
    }
   ],
   "source": [
    "plt.figure(figsize=(5, 5))\n",
    "\n",
    "plt.subplot(5, 5, 1)\n",
    "fig = mimage.imread(\"../input_data/notMnist/notMNIST_large/B/Q0sgRXZvbHV0aW9uLnR0Zg==.png\")\n",
    "plt.imshow(fig, cmap=\"gray\")\n",
    "\n",
    "plt.subplot(5, 5, 2)\n",
    "fig = mimage.imread(\"../input_data/notMnist/notMNIST_large/A/Q0sgU2NyaXB0LnR0Zg==.png\")\n",
    "plt.imshow(fig, cmap=\"gray\")\n",
    "\n",
    "plt.subplot(5, 5, 3)\n",
    "fig = mimage.imread(\"../input_data/notMnist/notMNIST_large/J/Q0sgRm9ydHVuZS50dGY=.png\")\n",
    "plt.imshow(fig, cmap=\"gray\")\n",
    "\n",
    "plt.show()"
   ]
  },
  {
   "cell_type": "code",
   "execution_count": 9,
   "metadata": {
    "ExecuteTime": {
     "end_time": "2019-03-27T09:58:45.359420Z",
     "start_time": "2019-03-27T09:58:45.342811Z"
    }
   },
   "outputs": [],
   "source": [
    "image_size = 28  # Pixel width and height.\n",
    "pixel_depth = 255.0  # Number of levels per pixel.\n",
    "\n",
    "def load_letter(folder, min_num_images):\n",
    "    \"\"\"Load the data for a single letter label.\"\"\"\n",
    "    image_files = os.listdir(folder)\n",
    "    dataset = np.ndarray(shape=(len(image_files), image_size, image_size),\n",
    "                         dtype=np.float32)\n",
    "    print(folder)\n",
    "    num_images = 0\n",
    "    for image in image_files:\n",
    "        image_file = os.path.join(folder, image)\n",
    "        try:\n",
    "            image_data = (imageio.imread(image_file).astype(float) -\n",
    "                          pixel_depth / 2) / pixel_depth\n",
    "            if image_data.shape != (image_size, image_size):\n",
    "                raise Exception('Unexpected image shape: %s' % str(image_data.shape))\n",
    "            dataset[num_images, :, :] = image_data\n",
    "            num_images = num_images + 1\n",
    "        except (IOError, ValueError) as e:\n",
    "            print('Could not read:', image_file, ':', e, '- it\\'s ok, skipping.')\n",
    "\n",
    "    dataset = dataset[0:num_images, :, :]\n",
    "    if num_images < min_num_images:\n",
    "        raise Exception('Many fewer images than expected: %d < %d' %\n",
    "                        (num_images, min_num_images))\n",
    "\n",
    "    print('Full dataset tensor:', dataset.shape)\n",
    "    print('Mean:', np.mean(dataset))\n",
    "    print('Standard deviation:', np.std(dataset))\n",
    "    return dataset"
   ]
  },
  {
   "cell_type": "code",
   "execution_count": 10,
   "metadata": {
    "ExecuteTime": {
     "end_time": "2019-03-27T09:58:45.398699Z",
     "start_time": "2019-03-27T09:58:45.361369Z"
    }
   },
   "outputs": [],
   "source": [
    "def maybe_pickle(data_folders, min_num_images_per_class, force=False):\n",
    "    dataset_names = []\n",
    "    for folder in data_folders:\n",
    "        set_filename = folder + '.pickle'\n",
    "        dataset_names.append(set_filename)\n",
    "        if os.path.exists(set_filename) and not force:\n",
    "            # You may override by setting force=True.\n",
    "            print('%s already present - Skipping pickling.' % set_filename)\n",
    "        else:\n",
    "            print('Pickling %s.' % set_filename)\n",
    "            dataset = load_letter(folder, min_num_images_per_class)\n",
    "            try:\n",
    "                with open(set_filename, 'wb') as f:\n",
    "                    pickle.dump(dataset, f, pickle.HIGHEST_PROTOCOL)\n",
    "            except Exception as e:\n",
    "                print('Unable to save data to', set_filename, ':', e)\n",
    "\n",
    "    return dataset_names"
   ]
  },
  {
   "cell_type": "code",
   "execution_count": 11,
   "metadata": {
    "ExecuteTime": {
     "end_time": "2019-03-27T09:58:45.445418Z",
     "start_time": "2019-03-27T09:58:45.400437Z"
    },
    "scrolled": true
   },
   "outputs": [
    {
     "name": "stdout",
     "output_type": "stream",
     "text": [
      "../input_data/notMnist/notMNIST_large/A.pickle already present - Skipping pickling.\n",
      "../input_data/notMnist/notMNIST_large/B.pickle already present - Skipping pickling.\n",
      "../input_data/notMnist/notMNIST_large/C.pickle already present - Skipping pickling.\n",
      "../input_data/notMnist/notMNIST_large/D.pickle already present - Skipping pickling.\n",
      "../input_data/notMnist/notMNIST_large/E.pickle already present - Skipping pickling.\n",
      "../input_data/notMnist/notMNIST_large/F.pickle already present - Skipping pickling.\n",
      "../input_data/notMnist/notMNIST_large/G.pickle already present - Skipping pickling.\n",
      "../input_data/notMnist/notMNIST_large/H.pickle already present - Skipping pickling.\n",
      "../input_data/notMnist/notMNIST_large/I.pickle already present - Skipping pickling.\n",
      "../input_data/notMnist/notMNIST_large/J.pickle already present - Skipping pickling.\n",
      "../input_data/notMnist/notMNIST_small/A.pickle already present - Skipping pickling.\n",
      "../input_data/notMnist/notMNIST_small/B.pickle already present - Skipping pickling.\n",
      "../input_data/notMnist/notMNIST_small/C.pickle already present - Skipping pickling.\n",
      "../input_data/notMnist/notMNIST_small/D.pickle already present - Skipping pickling.\n",
      "../input_data/notMnist/notMNIST_small/E.pickle already present - Skipping pickling.\n",
      "../input_data/notMnist/notMNIST_small/F.pickle already present - Skipping pickling.\n",
      "../input_data/notMnist/notMNIST_small/G.pickle already present - Skipping pickling.\n",
      "../input_data/notMnist/notMNIST_small/H.pickle already present - Skipping pickling.\n",
      "../input_data/notMnist/notMNIST_small/I.pickle already present - Skipping pickling.\n",
      "../input_data/notMnist/notMNIST_small/J.pickle already present - Skipping pickling.\n"
     ]
    }
   ],
   "source": [
    "train_datasets = maybe_pickle(train_folders, 45000)\n",
    "test_datasets = maybe_pickle(test_folders, 1800)"
   ]
  },
  {
   "cell_type": "markdown",
   "metadata": {},
   "source": [
    "## Challenge 2:\n"
   ]
  },
  {
   "cell_type": "code",
   "execution_count": 12,
   "metadata": {
    "ExecuteTime": {
     "end_time": "2019-03-27T09:58:46.902308Z",
     "start_time": "2019-03-27T09:58:45.447366Z"
    }
   },
   "outputs": [],
   "source": [
    "train_data = []\n",
    "test_data = []\n",
    "for data_set in train_datasets:\n",
    "    train_data.append(pickle.load(open(data_set, \"rb\")))\n",
    "for data_set in test_datasets:\n",
    "    test_data.append(pickle.load(open(data_set, \"rb\")))"
   ]
  },
  {
   "cell_type": "code",
   "execution_count": 13,
   "metadata": {
    "ExecuteTime": {
     "end_time": "2019-03-27T09:58:47.205250Z",
     "start_time": "2019-03-27T09:58:46.903898Z"
    }
   },
   "outputs": [
    {
     "data": {
      "text/plain": [
       "<matplotlib.image.AxesImage at 0x7f1d02d335c0>"
      ]
     },
     "execution_count": 13,
     "metadata": {},
     "output_type": "execute_result"
    },
    {
     "data": {
      "image/png": "[encoded data removed]",
      "text/plain": [
       "<Figure size 576x576 with 2 Axes>"
      ]
     },
     "metadata": {
      "needs_background": "light"
     },
     "output_type": "display_data"
    }
   ],
   "source": [
    "plt.figure(figsize=(8, 8))\n",
    "plt.subplot(2, 2, 1)\n",
    "plt.imshow(train_data[1][122], cmap=\"gray\")\n",
    "\n",
    "plt.subplot(2, 2, 2)\n",
    "plt.imshow(train_data[0][1452], cmap=\"gray\")"
   ]
  },
  {
   "cell_type": "markdown",
   "metadata": {},
   "source": [
    "## Challenge 3:\n"
   ]
  },
  {
   "cell_type": "code",
   "execution_count": 14,
   "metadata": {
    "ExecuteTime": {
     "end_time": "2019-03-27T09:58:47.215828Z",
     "start_time": "2019-03-27T09:58:47.208254Z"
    },
    "scrolled": true
   },
   "outputs": [
    {
     "name": "stdout",
     "output_type": "stream",
     "text": [
      "Train data for 0 => 52909\n",
      "Test data for 0 => 1872\n",
      "Train data for 1 => 52911\n",
      "Test data for 1 => 1873\n",
      "Train data for 2 => 52912\n",
      "Test data for 2 => 1873\n",
      "Train data for 3 => 52911\n",
      "Test data for 3 => 1873\n",
      "Train data for 4 => 52912\n",
      "Test data for 4 => 1873\n",
      "Train data for 5 => 52912\n",
      "Test data for 5 => 1872\n",
      "Train data for 6 => 52912\n",
      "Test data for 6 => 1872\n",
      "Train data for 7 => 52912\n",
      "Test data for 7 => 1872\n",
      "Train data for 8 => 52912\n",
      "Test data for 8 => 1872\n",
      "Train data for 9 => 52911\n",
      "Test data for 9 => 1872\n"
     ]
    }
   ],
   "source": [
    "for i in range(10):\n",
    "    print(f\"Train data for {i} => {len(train_data[i])}\")\n",
    "    print(f\"Test data for {i} => {len(test_data[i])}\")"
   ]
  },
  {
   "cell_type": "code",
   "execution_count": 15,
   "metadata": {
    "ExecuteTime": {
     "end_time": "2019-03-27T09:58:47.249666Z",
     "start_time": "2019-03-27T09:58:47.217636Z"
    }
   },
   "outputs": [],
   "source": [
    "def make_arrays(nb_rows, img_size):\n",
    "    if nb_rows:\n",
    "        dataset = np.ndarray((nb_rows, img_size, img_size), dtype=np.float32)\n",
    "        labels = np.ndarray(nb_rows, dtype=np.int32)\n",
    "    else:\n",
    "        dataset, labels = None, None\n",
    "    return dataset, labels"
   ]
  },
  {
   "cell_type": "code",
   "execution_count": 16,
   "metadata": {
    "ExecuteTime": {
     "end_time": "2019-03-27T09:58:47.306384Z",
     "start_time": "2019-03-27T09:58:47.254394Z"
    }
   },
   "outputs": [],
   "source": [
    "def merge_datasets(pickle_files, train_size, valid_size=0):\n",
    "    num_classes = len(pickle_files)\n",
    "    valid_dataset, valid_labels = make_arrays(valid_size, image_size)\n",
    "    train_dataset, train_labels = make_arrays(train_size, image_size)\n",
    "    vsize_per_class = valid_size // num_classes\n",
    "    tsize_per_class = train_size // num_classes\n",
    "\n",
    "    start_v, start_t = 0, 0\n",
    "    end_v, end_t = vsize_per_class, tsize_per_class\n",
    "    end_l = vsize_per_class + tsize_per_class\n",
    "    for label, pickle_file in enumerate(pickle_files):\n",
    "        try:\n",
    "            with open(pickle_file, 'rb') as f:\n",
    "                letter_set = pickle.load(f)\n",
    "                # let's shuffle the letters to have random validation and training set\n",
    "                np.random.shuffle(letter_set)\n",
    "                if valid_dataset is not None:\n",
    "                    valid_letter = letter_set[:vsize_per_class, :, :]\n",
    "                    valid_dataset[start_v:end_v, :, :] = valid_letter\n",
    "                    valid_labels[start_v:end_v] = label\n",
    "                    start_v += vsize_per_class\n",
    "                    end_v += vsize_per_class\n",
    "\n",
    "                train_letter = letter_set[vsize_per_class:end_l, :, :]\n",
    "                train_dataset[start_t:end_t, :, :] = train_letter\n",
    "                train_labels[start_t:end_t] = label\n",
    "                start_t += tsize_per_class\n",
    "                end_t += tsize_per_class\n",
    "        except Exception as e:\n",
    "            print('Unable to process data from', pickle_file, ':', e)\n",
    "            raise\n",
    "\n",
    "    return valid_dataset, valid_labels, train_dataset, train_labels"
   ]
  },
  {
   "cell_type": "code",
   "execution_count": 17,
   "metadata": {
    "ExecuteTime": {
     "end_time": "2019-03-27T09:58:50.108424Z",
     "start_time": "2019-03-27T09:58:47.308545Z"
    }
   },
   "outputs": [
    {
     "name": "stdout",
     "output_type": "stream",
     "text": [
      "Training: (2000, 28, 28) (2000,)\n",
      "Validation: (100, 28, 28) (100,)\n",
      "Testing: (100, 28, 28) (100,)\n"
     ]
    }
   ],
   "source": [
    "train_size = 2000\n",
    "valid_size = 100\n",
    "test_size = 100\n",
    "\n",
    "valid_dataset, valid_labels, train_dataset, train_labels = merge_datasets(\n",
    "  train_datasets, train_size, valid_size)\n",
    "_, _, test_dataset, test_labels = merge_datasets(test_datasets, test_size)\n",
    "\n",
    "print('Training:', train_dataset.shape, train_labels.shape)\n",
    "print('Validation:', valid_dataset.shape, valid_labels.shape)\n",
    "print('Testing:', test_dataset.shape, test_labels.shape)"
   ]
  },
  {
   "cell_type": "code",
   "execution_count": 18,
   "metadata": {
    "ExecuteTime": {
     "end_time": "2019-03-27T09:58:50.432523Z",
     "start_time": "2019-03-27T09:58:50.113236Z"
    }
   },
   "outputs": [
    {
     "data": {
      "text/plain": [
       "<matplotlib.image.AxesImage at 0x7f1d02cc07f0>"
      ]
     },
     "execution_count": 18,
     "metadata": {},
     "output_type": "execute_result"
    },
    {
     "data": {
      "image/png": "[encoded data removed]",
      "text/plain": [
       "<Figure size 576x576 with 2 Axes>"
      ]
     },
     "metadata": {
      "needs_background": "light"
     },
     "output_type": "display_data"
    }
   ],
   "source": [
    "plt.figure(figsize=(8, 8))\n",
    "plt.subplot(2, 2, 1)\n",
    "plt.imshow(train_dataset[189], cmap=\"gray\")\n",
    "\n",
    "plt.subplot(2, 2, 2)\n",
    "plt.imshow(train_dataset[345], cmap=\"gray\")  "
   ]
  },
  {
   "cell_type": "code",
   "execution_count": 19,
   "metadata": {
    "ExecuteTime": {
     "end_time": "2019-03-27T09:58:50.444177Z",
     "start_time": "2019-03-27T09:58:50.434531Z"
    }
   },
   "outputs": [],
   "source": [
    "def randomize(dataset, labels):\n",
    "    permutation = np.random.permutation(labels.shape[0])\n",
    "    shuffled_dataset = dataset[permutation,:,:]\n",
    "    shuffled_labels = labels[permutation]\n",
    "    return shuffled_dataset, shuffled_labels\n",
    "\n",
    "train_dataset, train_labels = randomize(train_dataset, train_labels)\n",
    "test_dataset, test_labels = randomize(test_dataset, test_labels)\n",
    "valid_dataset, valid_labels = randomize(valid_dataset, valid_labels)"
   ]
  },
  {
   "cell_type": "markdown",
   "metadata": {},
   "source": [
    "## Problem 4 :\n",
    "\n",
    "#### Verification"
   ]
  },
  {
   "cell_type": "code",
   "execution_count": 20,
   "metadata": {
    "ExecuteTime": {
     "end_time": "2019-03-27T09:58:50.801398Z",
     "start_time": "2019-03-27T09:58:50.446081Z"
    }
   },
   "outputs": [
    {
     "data": {
      "text/plain": [
       "<matplotlib.image.AxesImage at 0x7f1d02bf92e8>"
      ]
     },
     "execution_count": 20,
     "metadata": {},
     "output_type": "execute_result"
    },
    {
     "data": {
      "image/png": "[encoded data removed]",
      "text/plain": [
       "<Figure size 576x576 with 2 Axes>"
      ]
     },
     "metadata": {
      "needs_background": "light"
     },
     "output_type": "display_data"
    }
   ],
   "source": [
    "plt.figure(figsize=(8, 8))\n",
    "plt.subplot(2, 2, 1)\n",
    "plt.imshow(train_dataset[189], cmap=\"gray\")\n",
    "\n",
    "plt.subplot(2, 2, 2)\n",
    "plt.imshow(train_dataset[345], cmap=\"gray\")                                "
   ]
  },
  {
   "cell_type": "code",
   "execution_count": 21,
   "metadata": {
    "ExecuteTime": {
     "end_time": "2019-03-27T09:58:50.826109Z",
     "start_time": "2019-03-27T09:58:50.803074Z"
    }
   },
   "outputs": [],
   "source": [
    "pickle_file = os.path.join(data_root, 'notMNIST.pickle')\n",
    "\n",
    "try:\n",
    "    f = open(pickle_file, 'wb')\n",
    "    save = {\n",
    "        'train_dataset': train_dataset,\n",
    "        'train_labels': train_labels,\n",
    "        'valid_dataset': valid_dataset,\n",
    "        'valid_labels': valid_labels,\n",
    "        'test_dataset': test_dataset,\n",
    "        'test_labels': test_labels,\n",
    "    }\n",
    "    pickle.dump(save, f, pickle.HIGHEST_PROTOCOL)\n",
    "    f.close()\n",
    "except Exception as e:\n",
    "    print('Unable to save data to', pickle_file, ':', e)\n",
    "    raise"
   ]
  },
  {
   "cell_type": "code",
   "execution_count": 22,
   "metadata": {
    "ExecuteTime": {
     "end_time": "2019-03-27T09:58:51.064663Z",
     "start_time": "2019-03-27T09:58:50.828027Z"
    }
   },
   "outputs": [
    {
     "name": "stdout",
     "output_type": "stream",
     "text": [
      "Compressed pickle size: 6908489\n"
     ]
    }
   ],
   "source": [
    "statinfo = os.stat(pickle_file)\n",
    "print('Compressed pickle size:', statinfo.st_size)"
   ]
  },
  {
   "cell_type": "code",
   "execution_count": 24,
   "metadata": {
    "ExecuteTime": {
     "end_time": "2019-03-27T09:59:00.289270Z",
     "start_time": "2019-03-27T09:58:59.921592Z"
    }
   },
   "outputs": [
    {
     "name": "stdout",
     "output_type": "stream",
     "text": [
      "WARNING:tensorflow:From /home/codemantra/anaconda3/lib/python3.6/site-packages/tensorflow/python/ops/resource_variable_ops.py:435: colocate_with (from tensorflow.python.framework.ops) is deprecated and will be removed in a future version.\n",
      "Instructions for updating:\n",
      "Colocations handled automatically by placer.\n"
     ]
    }
   ],
   "source": [
    "model = tf.keras.models.Sequential([\n",
    "    tf.keras.layers.Flatten(input_shape=(28, 28)),\n",
    "    tf.keras.layers.Dense(128, activation=tf.nn.relu),\n",
    "    tf.keras.layers.Dense(10, activation=tf.nn.softmax)\n",
    "])"
   ]
  },
  {
   "cell_type": "code",
   "execution_count": 25,
   "metadata": {
    "ExecuteTime": {
     "end_time": "2019-03-27T10:16:25.307241Z",
     "start_time": "2019-03-27T10:16:24.954323Z"
    }
   },
   "outputs": [],
   "source": [
    "model.compile(optimizer='adam', \n",
    "              loss='sparse_categorical_crossentropy',\n",
    "              metrics=['accuracy'])"
   ]
  },
  {
   "cell_type": "code",
   "execution_count": 42,
   "metadata": {
    "ExecuteTime": {
     "end_time": "2019-03-27T10:24:35.611270Z",
     "start_time": "2019-03-27T10:24:17.942555Z"
    }
   },
   "outputs": [
    {
     "name": "stdout",
     "output_type": "stream",
     "text": [
      "Epoch 1/100\n",
      "2000/2000 [==============================] - 0s 98us/sample - loss: 0.0699 - acc: 0.9935\n",
      "Epoch 2/100\n",
      "2000/2000 [==============================] - 0s 90us/sample - loss: 0.0634 - acc: 0.9940\n",
      "Epoch 3/100\n",
      "2000/2000 [==============================] - 0s 86us/sample - loss: 0.0473 - acc: 0.9950\n",
      "Epoch 4/100\n",
      "2000/2000 [==============================] - 0s 85us/sample - loss: 0.0450 - acc: 0.9945\n",
      "Epoch 5/100\n",
      "2000/2000 [==============================] - 0s 88us/sample - loss: 0.0382 - acc: 0.9965\n",
      "Epoch 6/100\n",
      "2000/2000 [==============================] - 0s 114us/sample - loss: 0.0341 - acc: 0.9970\n",
      "Epoch 7/100\n",
      "2000/2000 [==============================] - 0s 91us/sample - loss: 0.0336 - acc: 0.9950\n",
      "Epoch 8/100\n",
      "2000/2000 [==============================] - 0s 88us/sample - loss: 0.0250 - acc: 0.9975\n",
      "Epoch 9/100\n",
      "2000/2000 [==============================] - 0s 86us/sample - loss: 0.0258 - acc: 0.9955\n",
      "Epoch 10/100\n",
      "2000/2000 [==============================] - 0s 87us/sample - loss: 0.0195 - acc: 0.9990\n",
      "Epoch 11/100\n",
      "2000/2000 [==============================] - 0s 82us/sample - loss: 0.0195 - acc: 0.9985\n",
      "Epoch 12/100\n",
      "2000/2000 [==============================] - 0s 105us/sample - loss: 0.0159 - acc: 0.9985\n",
      "Epoch 13/100\n",
      "2000/2000 [==============================] - 0s 90us/sample - loss: 0.0152 - acc: 0.9990\n",
      "Epoch 14/100\n",
      "2000/2000 [==============================] - 0s 92us/sample - loss: 0.0158 - acc: 0.9985\n",
      "Epoch 15/100\n",
      "2000/2000 [==============================] - 0s 89us/sample - loss: 0.0140 - acc: 0.9990\n",
      "Epoch 16/100\n",
      "2000/2000 [==============================] - 0s 87us/sample - loss: 0.0151 - acc: 0.9975\n",
      "Epoch 17/100\n",
      "2000/2000 [==============================] - 0s 88us/sample - loss: 0.0123 - acc: 0.9990\n",
      "Epoch 18/100\n",
      "2000/2000 [==============================] - 0s 87us/sample - loss: 0.0109 - acc: 0.9990\n",
      "Epoch 19/100\n",
      "2000/2000 [==============================] - 0s 94us/sample - loss: 0.0125 - acc: 0.9990\n",
      "Epoch 20/100\n",
      "2000/2000 [==============================] - 0s 92us/sample - loss: 0.0158 - acc: 0.9980\n",
      "Epoch 21/100\n",
      "2000/2000 [==============================] - 0s 83us/sample - loss: 0.0144 - acc: 0.9985\n",
      "Epoch 22/100\n",
      "2000/2000 [==============================] - 0s 87us/sample - loss: 0.0097 - acc: 0.9990\n",
      "Epoch 23/100\n",
      "2000/2000 [==============================] - 0s 81us/sample - loss: 0.0121 - acc: 0.9975\n",
      "Epoch 24/100\n",
      "2000/2000 [==============================] - 0s 83us/sample - loss: 0.0108 - acc: 0.9990\n",
      "Epoch 25/100\n",
      "2000/2000 [==============================] - 0s 88us/sample - loss: 0.0108 - acc: 0.9990\n",
      "Epoch 26/100\n",
      "2000/2000 [==============================] - 0s 92us/sample - loss: 0.0118 - acc: 0.9985\n",
      "Epoch 27/100\n",
      "2000/2000 [==============================] - 0s 91us/sample - loss: 0.0119 - acc: 0.9985\n",
      "Epoch 28/100\n",
      "2000/2000 [==============================] - 0s 92us/sample - loss: 0.0095 - acc: 0.9990\n",
      "Epoch 29/100\n",
      "2000/2000 [==============================] - 0s 86us/sample - loss: 0.0114 - acc: 0.9985\n",
      "Epoch 30/100\n",
      "2000/2000 [==============================] - 0s 87us/sample - loss: 0.0089 - acc: 0.9990\n",
      "Epoch 31/100\n",
      "2000/2000 [==============================] - 0s 88us/sample - loss: 0.0083 - acc: 0.9990\n",
      "Epoch 32/100\n",
      "2000/2000 [==============================] - 0s 88us/sample - loss: 0.0155 - acc: 0.9985\n",
      "Epoch 33/100\n",
      "2000/2000 [==============================] - 0s 87us/sample - loss: 0.0077 - acc: 0.9990\n",
      "Epoch 34/100\n",
      "2000/2000 [==============================] - 0s 83us/sample - loss: 0.0121 - acc: 0.9985\n",
      "Epoch 35/100\n",
      "2000/2000 [==============================] - 0s 77us/sample - loss: 0.0092 - acc: 0.9990\n",
      "Epoch 36/100\n",
      "2000/2000 [==============================] - 0s 93us/sample - loss: 0.0087 - acc: 0.9990\n",
      "Epoch 37/100\n",
      "2000/2000 [==============================] - 0s 97us/sample - loss: 0.0080 - acc: 0.9990\n",
      "Epoch 38/100\n",
      "2000/2000 [==============================] - 0s 87us/sample - loss: 0.0078 - acc: 0.9990\n",
      "Epoch 39/100\n",
      "2000/2000 [==============================] - 0s 87us/sample - loss: 0.0078 - acc: 0.9990\n",
      "Epoch 40/100\n",
      "2000/2000 [==============================] - 0s 91us/sample - loss: 0.0086 - acc: 0.9990\n",
      "Epoch 41/100\n",
      "2000/2000 [==============================] - 0s 86us/sample - loss: 0.0115 - acc: 0.9970\n",
      "Epoch 42/100\n",
      "2000/2000 [==============================] - 0s 95us/sample - loss: 0.0133 - acc: 0.9975\n",
      "Epoch 43/100\n",
      "2000/2000 [==============================] - 0s 89us/sample - loss: 0.0110 - acc: 0.9985\n",
      "Epoch 44/100\n",
      "2000/2000 [==============================] - 0s 87us/sample - loss: 0.0099 - acc: 0.9985\n",
      "Epoch 45/100\n",
      "2000/2000 [==============================] - 0s 75us/sample - loss: 0.0106 - acc: 0.9985\n",
      "Epoch 46/100\n",
      "2000/2000 [==============================] - 0s 82us/sample - loss: 0.0089 - acc: 0.9985\n",
      "Epoch 47/100\n",
      "2000/2000 [==============================] - 0s 81us/sample - loss: 0.0066 - acc: 0.9990\n",
      "Epoch 48/100\n",
      "2000/2000 [==============================] - 0s 85us/sample - loss: 0.0058 - acc: 0.9985\n",
      "Epoch 49/100\n",
      "2000/2000 [==============================] - 0s 93us/sample - loss: 0.0071 - acc: 0.9990\n",
      "Epoch 50/100\n",
      "2000/2000 [==============================] - 0s 86us/sample - loss: 0.0045 - acc: 0.9990\n",
      "Epoch 51/100\n",
      "2000/2000 [==============================] - 0s 84us/sample - loss: 0.0062 - acc: 0.9990\n",
      "Epoch 52/100\n",
      "2000/2000 [==============================] - 0s 88us/sample - loss: 0.0067 - acc: 0.9990\n",
      "Epoch 53/100\n",
      "2000/2000 [==============================] - 0s 91us/sample - loss: 0.0073 - acc: 0.9985\n",
      "Epoch 54/100\n",
      "2000/2000 [==============================] - 0s 86us/sample - loss: 0.0039 - acc: 0.9995\n",
      "Epoch 55/100\n",
      "2000/2000 [==============================] - 0s 83us/sample - loss: 0.0072 - acc: 0.9985\n",
      "Epoch 56/100\n",
      "2000/2000 [==============================] - 0s 80us/sample - loss: 0.0075 - acc: 0.9985\n",
      "Epoch 57/100\n",
      "2000/2000 [==============================] - 0s 74us/sample - loss: 0.0088 - acc: 0.9985\n",
      "Epoch 58/100\n",
      "2000/2000 [==============================] - 0s 82us/sample - loss: 0.0062 - acc: 0.9990\n",
      "Epoch 59/100\n",
      "2000/2000 [==============================] - 0s 84us/sample - loss: 0.0081 - acc: 0.9985\n",
      "Epoch 60/100\n",
      "2000/2000 [==============================] - 0s 83us/sample - loss: 0.0058 - acc: 0.9990\n",
      "Epoch 61/100\n",
      "2000/2000 [==============================] - 0s 86us/sample - loss: 0.0054 - acc: 0.9990\n",
      "Epoch 62/100\n",
      "2000/2000 [==============================] - 0s 82us/sample - loss: 0.0050 - acc: 0.9990\n",
      "Epoch 63/100\n",
      "2000/2000 [==============================] - 0s 83us/sample - loss: 0.0060 - acc: 0.9990\n",
      "Epoch 64/100\n",
      "2000/2000 [==============================] - 0s 86us/sample - loss: 0.0058 - acc: 0.9990\n",
      "Epoch 65/100\n",
      "2000/2000 [==============================] - 0s 84us/sample - loss: 0.0144 - acc: 0.9980\n",
      "Epoch 66/100\n",
      "2000/2000 [==============================] - 0s 83us/sample - loss: 0.1600 - acc: 0.9595\n",
      "Epoch 67/100\n",
      "2000/2000 [==============================] - 0s 89us/sample - loss: 0.2538 - acc: 0.9310\n",
      "Epoch 68/100\n",
      "2000/2000 [==============================] - 0s 76us/sample - loss: 0.0735 - acc: 0.9820\n",
      "Epoch 69/100\n",
      "2000/2000 [==============================] - 0s 75us/sample - loss: 0.0171 - acc: 0.9970\n",
      "Epoch 70/100\n",
      "2000/2000 [==============================] - 0s 82us/sample - loss: 0.0092 - acc: 0.9990\n",
      "Epoch 71/100\n",
      "2000/2000 [==============================] - 0s 85us/sample - loss: 0.0036 - acc: 0.9995\n",
      "Epoch 72/100\n",
      "2000/2000 [==============================] - 0s 81us/sample - loss: 0.0066 - acc: 0.9985\n",
      "Epoch 73/100\n",
      "2000/2000 [==============================] - 0s 84us/sample - loss: 0.0087 - acc: 0.9995\n",
      "Epoch 74/100\n",
      "2000/2000 [==============================] - 0s 83us/sample - loss: 0.0043 - acc: 0.9995\n",
      "Epoch 75/100\n",
      "2000/2000 [==============================] - 0s 86us/sample - loss: 0.0056 - acc: 0.9995\n",
      "Epoch 76/100\n",
      "2000/2000 [==============================] - 0s 85us/sample - loss: 0.0058 - acc: 0.9990\n",
      "Epoch 77/100\n",
      "2000/2000 [==============================] - 0s 83us/sample - loss: 0.0052 - acc: 0.9995\n",
      "Epoch 78/100\n",
      "2000/2000 [==============================] - 0s 85us/sample - loss: 0.0052 - acc: 0.9995\n",
      "Epoch 79/100\n",
      "2000/2000 [==============================] - 0s 85us/sample - loss: 0.0049 - acc: 0.9985\n",
      "Epoch 80/100\n",
      "2000/2000 [==============================] - 0s 74us/sample - loss: 0.0065 - acc: 0.9990\n",
      "Epoch 81/100\n"
     ]
    },
    {
     "name": "stdout",
     "output_type": "stream",
     "text": [
      "2000/2000 [==============================] - 0s 74us/sample - loss: 0.0043 - acc: 0.9995\n",
      "Epoch 82/100\n",
      "2000/2000 [==============================] - 0s 90us/sample - loss: 0.0048 - acc: 0.9995\n",
      "Epoch 83/100\n",
      "2000/2000 [==============================] - 0s 90us/sample - loss: 0.0047 - acc: 0.9995\n",
      "Epoch 84/100\n",
      "2000/2000 [==============================] - 0s 91us/sample - loss: 0.0045 - acc: 0.9995\n",
      "Epoch 85/100\n",
      "2000/2000 [==============================] - 0s 99us/sample - loss: 0.0049 - acc: 0.9995\n",
      "Epoch 86/100\n",
      "2000/2000 [==============================] - 0s 82us/sample - loss: 0.0043 - acc: 0.9995\n",
      "Epoch 87/100\n",
      "2000/2000 [==============================] - 0s 87us/sample - loss: 0.0046 - acc: 0.9995\n",
      "Epoch 88/100\n",
      "2000/2000 [==============================] - 0s 85us/sample - loss: 0.0050 - acc: 0.9995\n",
      "Epoch 89/100\n",
      "2000/2000 [==============================] - 0s 80us/sample - loss: 0.0040 - acc: 0.9995\n",
      "Epoch 90/100\n",
      "2000/2000 [==============================] - 0s 101us/sample - loss: 0.0046 - acc: 0.9995\n",
      "Epoch 91/100\n",
      "2000/2000 [==============================] - 0s 85us/sample - loss: 0.0040 - acc: 0.9995\n",
      "Epoch 92/100\n",
      "2000/2000 [==============================] - 0s 72us/sample - loss: 0.0055 - acc: 0.9980\n",
      "Epoch 93/100\n",
      "2000/2000 [==============================] - 0s 83us/sample - loss: 0.0101 - acc: 0.9985\n",
      "Epoch 94/100\n",
      "2000/2000 [==============================] - 0s 85us/sample - loss: 0.0056 - acc: 0.9990\n",
      "Epoch 95/100\n",
      "2000/2000 [==============================] - 0s 81us/sample - loss: 0.0062 - acc: 0.9985\n",
      "Epoch 96/100\n",
      "2000/2000 [==============================] - 0s 100us/sample - loss: 0.0037 - acc: 0.9995\n",
      "Epoch 97/100\n",
      "2000/2000 [==============================] - 0s 81us/sample - loss: 0.0037 - acc: 0.9995\n",
      "Epoch 98/100\n",
      "2000/2000 [==============================] - 0s 82us/sample - loss: 0.0041 - acc: 0.9995\n",
      "Epoch 99/100\n",
      "2000/2000 [==============================] - 0s 106us/sample - loss: 0.0038 - acc: 0.9995\n",
      "Epoch 100/100\n",
      "2000/2000 [==============================] - 0s 87us/sample - loss: 0.0032 - acc: 0.9995\n"
     ]
    },
    {
     "data": {
      "text/plain": [
       "<tensorflow.python.keras.callbacks.History at 0x7f1d04e41f60>"
      ]
     },
     "execution_count": 42,
     "metadata": {},
     "output_type": "execute_result"
    }
   ],
   "source": [
    "model.fit(train_dataset, train_labels, epochs=100)"
   ]
  },
  {
   "cell_type": "code",
   "execution_count": 43,
   "metadata": {
    "ExecuteTime": {
     "end_time": "2019-03-27T10:24:39.241087Z",
     "start_time": "2019-03-27T10:24:39.221856Z"
    }
   },
   "outputs": [
    {
     "name": "stdout",
     "output_type": "stream",
     "text": [
      "100/100 [==============================] - 0s 65us/sample - loss: 1.0904 - acc: 0.8300\n",
      "Test accuracy: 0.83\n"
     ]
    }
   ],
   "source": [
    "test_loss, test_acc = model.evaluate(test_dataset, test_labels)\n",
    "\n",
    "print('Test accuracy:', test_acc)"
   ]
  },
  {
   "cell_type": "code",
   "execution_count": 33,
   "metadata": {
    "ExecuteTime": {
     "end_time": "2019-03-27T10:20:59.286360Z",
     "start_time": "2019-03-27T10:20:59.272525Z"
    }
   },
   "outputs": [],
   "source": [
    "predictions = model.predict(test_dataset)"
   ]
  }
 ],
 "metadata": {
  "kernelspec": {
   "display_name": "Python 3",
   "language": "python",
   "name": "python3"
  },
  "language_info": {
   "codemirror_mode": {
    "name": "ipython",
    "version": 3
   },
   "file_extension": ".py",
   "mimetype": "text/x-python",
   "name": "python",
   "nbconvert_exporter": "python",
   "pygments_lexer": "ipython3",
   "version": "3.6.8"
  }
 },
 "nbformat": 4,
 "nbformat_minor": 2
}
