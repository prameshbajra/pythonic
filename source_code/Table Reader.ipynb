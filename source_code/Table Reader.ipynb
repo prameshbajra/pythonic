{
 "cells": [
  {
   "cell_type": "code",
   "execution_count": 1,
   "metadata": {
    "ExecuteTime": {
     "end_time": "2019-02-11T05:19:50.097531Z",
     "start_time": "2019-02-11T05:19:44.556723Z"
    }
   },
   "outputs": [],
   "source": [
    "import pandas as pd"
   ]
  },
  {
   "cell_type": "code",
   "execution_count": 28,
   "metadata": {
    "ExecuteTime": {
     "end_time": "2019-02-11T05:42:01.534075Z",
     "start_time": "2019-02-11T05:41:59.361154Z"
    }
   },
   "outputs": [],
   "source": [
    "tables_from_url = pd.read_html(\n",
    "    \"https://www.in.pampers.com/pregnancy/baby-names/article/top-indian-baby-names\",\n",
    "    header=[0],\n",
    "    index_col=0)\n",
    "\n",
    "table_from_url = pd.concat(tables_from_url).reset_index()\n",
    "\n",
    "table_from_url.to_csv(\n",
    "    path_or_buf=\"../input_data/names.csv\",\n",
    "    sep=\",\",\n",
    "    header=False,\n",
    "    columns=[\"Name\"], index = False)"
   ]
  }
 ],
 "metadata": {
  "kernelspec": {
   "display_name": "Python 3",
   "language": "python",
   "name": "python3"
  },
  "language_info": {
   "codemirror_mode": {
    "name": "ipython",
    "version": 3
   },
   "file_extension": ".py",
   "mimetype": "text/x-python",
   "name": "python",
   "nbconvert_exporter": "python",
   "pygments_lexer": "ipython3",
   "version": "3.6.8"
  }
 },
 "nbformat": 4,
 "nbformat_minor": 2
}
