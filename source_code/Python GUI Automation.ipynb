{
 "cells": [
  {
   "cell_type": "code",
   "execution_count": null,
   "metadata": {
    "ExecuteTime": {
     "start_time": "2019-04-03T09:11:09.215Z"
    }
   },
   "outputs": [],
   "source": [
    "import pyautogui\n",
    "import time\n",
    "\n",
    "pos = pyautogui.position()\n",
    "\n",
    "pyautogui.click(621, 37)\n",
    "pyautogui.click(280, 74)\n",
    "pyautogui.typewrite(\"Pramesh Bajracharya\")\n",
    "pyautogui.typewrite([\"enter\"])\n",
    "time.sleep(2)\n",
    "pyautogui.hotkey(\"ctrl\", \"a\", \"ctrl\", \"c\")\n",
    "time.sleep(2)\n",
    "pyautogui.click(20, 755)\n",
    "time.sleep(2)\n",
    "pyautogui.typewrite(\"text\")\n",
    "time.sleep(2)\n",
    "pyautogui.typewrite([\"enter\"])\n",
    "time.sleep(5)\n",
    "pyautogui.click(130, 750)\n",
    "time.sleep(3)\n",
    "pyautogui.hotkey(\"ctrl\", \"v\")\n",
    "time.sleep(2)\n",
    "pos"
   ]
  },
  {
   "cell_type": "code",
   "execution_count": null,
   "metadata": {},
   "outputs": [],
   "source": []
  }
 ],
 "metadata": {
  "kernelspec": {
   "display_name": "Python 3",
   "language": "python",
   "name": "python3"
  },
  "language_info": {
   "codemirror_mode": {
    "name": "ipython",
    "version": 3
   },
   "file_extension": ".py",
   "mimetype": "text/x-python",
   "name": "python",
   "nbconvert_exporter": "python",
   "pygments_lexer": "ipython3",
   "version": "3.6.8"
  }
 },
 "nbformat": 4,
 "nbformat_minor": 2
}
